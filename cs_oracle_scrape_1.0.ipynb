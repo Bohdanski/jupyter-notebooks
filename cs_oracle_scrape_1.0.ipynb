{
 "cells": [
  {
   "cell_type": "code",
   "execution_count": null,
   "metadata": {},
   "outputs": [],
   "source": [
    "from time import sleep\n",
    "from selenium import webdriver\n",
    "from selenium.webdriver.common.keys import Keys\n",
    "from selenium.common.exceptions import NoSuchElementException"
   ]
  },
  {
   "cell_type": "code",
   "execution_count": null,
   "metadata": {},
   "outputs": [],
   "source": [
    "driver = webdriver.Chrome(\"C:\\\\Users\\\\tubxt2p\\\\Downloads\\\\chromedriver_win32\\\\chromedriver.exe\")"
   ]
  },
  {
   "cell_type": "code",
   "execution_count": null,
   "metadata": {},
   "outputs": [],
   "source": [
    "def log_in(username, password):\n",
    "    \"\"\"\n",
    "    Takes in user credentials and logs into the website\n",
    "    \"\"\"\n",
    "    username_field = driver.find_element_by_name(\"username\")\n",
    "    username_field.send_keys(username)\n",
    "\n",
    "    password_field = driver.find_element_by_name(\"password\")\n",
    "    password_field.send_keys(password)\n",
    "\n",
    "    password_field.send_keys(Keys.ENTER)\n",
    "    sleep(5)"
   ]
  },
  {
   "cell_type": "code",
   "execution_count": null,
   "metadata": {},
   "outputs": [],
   "source": [
    "def check_refresh():\n",
    "    \"\"\"\n",
    "    Check if Oracle DB is prompting Adobe Flash Update.\n",
    "    \"\"\"\n",
    "    try:\n",
    "        driver.find_element_by_class_name(\"HeaderLogo\")\n",
    "    except NoSuchElementException:\n",
    "        return False\n",
    "    return True"
   ]
  },
  {
   "cell_type": "code",
   "execution_count": null,
   "metadata": {},
   "outputs": [],
   "source": [
    "driver.get(\"https://tinyurl.com/yx6l85d8\")"
   ]
  },
  {
   "cell_type": "code",
   "execution_count": null,
   "metadata": {},
   "outputs": [],
   "source": [
    "log_in(\"\", \"\")"
   ]
  },
  {
   "cell_type": "code",
   "execution_count": null,
   "metadata": {},
   "outputs": [],
   "source": [
    "while True:\n",
    "    try:\n",
    "        dashboard_link = driver.find_element_by_link_text(\"Customer Detail Export Dashboard - Standard SL Export\")\n",
    "        dashboard_link.click()\n",
    "        sleep(5)\n",
    "        break\n",
    "    except Exception:\n",
    "        while check_refresh() == False:\n",
    "            driver.refresh()\n",
    "            sleep(5)"
   ]
  },
  {
   "cell_type": "code",
   "execution_count": null,
   "metadata": {},
   "outputs": [],
   "source": [
    "while True:\n",
    "    try:\n",
    "        drop_dwn_btn = driver.find_element_by_class_name(\"promptDropDownButton\")\n",
    "        drop_dwn_btn.click()\n",
    "        sleep(5)\n",
    "        break\n",
    "    except Exception:\n",
    "        while check_refresh() == False:\n",
    "            driver.refresh()\n",
    "            sleep(5)"
   ]
  },
  {
   "cell_type": "code",
   "execution_count": null,
   "metadata": {},
   "outputs": [],
   "source": [
    "while True:\n",
    "    try:\n",
    "        wtd_btn = driver.find_element_by_xpath(\"/html/body/div[9]/div/div[2]/div[3]/span\")\n",
    "        wtd_btn.click()\n",
    "        sleep(5)\n",
    "        break\n",
    "    except Exception:\n",
    "        while check_refresh() == False:\n",
    "            driver.refresh()\n",
    "            sleep(5)"
   ]
  },
  {
   "cell_type": "code",
   "execution_count": null,
   "metadata": {},
   "outputs": [],
   "source": [
    "while True:\n",
    "    try:\n",
    "        apply_btn = driver.find_element_by_id(\"gobtn\")\n",
    "        apply_btn.click()\n",
    "        sleep(5)\n",
    "        break\n",
    "    except Exception:\n",
    "        while check_refresh() == False:\n",
    "            driver.refresh()\n",
    "            sleep(5)"
   ]
  },
  {
   "cell_type": "code",
   "execution_count": null,
   "metadata": {},
   "outputs": [],
   "source": [
    "while True:\n",
    "    try:\n",
    "        export_link = driver.find_element_by_link_text(\"Export\")\n",
    "        export_link.click()\n",
    "        sleep(1)\n",
    "        break\n",
    "    except Exception:\n",
    "        while check_refresh() == False:\n",
    "            driver.refresh()\n",
    "            sleep(5)"
   ]
  },
  {
   "cell_type": "code",
   "execution_count": null,
   "metadata": {},
   "outputs": [],
   "source": [
    "while True:\n",
    "    try:\n",
    "        data_link = driver.find_element_by_link_text(\"Data\")\n",
    "        data_link.click\n",
    "        sleep(1)\n",
    "        break\n",
    "    except Exception:\n",
    "        while check_refresh() == False:\n",
    "            driver.refresh()\n",
    "            sleep(5)"
   ]
  },
  {
   "cell_type": "code",
   "execution_count": null,
   "metadata": {},
   "outputs": [],
   "source": [
    "while True:\n",
    "    try:\n",
    "        csv_link = driver.find_element_by_link_text(\"Tab delimited Format\")\n",
    "        csv_link.click()\n",
    "        sleep(1)\n",
    "        break\n",
    "    except Exception:\n",
    "        while check_refresh() == False:\n",
    "            driver.refresh()\n",
    "            sleep(5)"
   ]
  },
  {
   "cell_type": "code",
   "execution_count": null,
   "metadata": {},
   "outputs": [],
   "source": [
    "while True:\n",
    "    try:\n",
    "        ok_btn = driver.find_element_by_partial_link_text(\"OK\")\n",
    "        ok_btn.click()\n",
    "        sleep(1)\n",
    "        break\n",
    "    except Exception:\n",
    "        while check_refresh() == False:\n",
    "            driver.refresh()\n",
    "            sleep(5)"
   ]
  },
  {
   "cell_type": "code",
   "execution_count": null,
   "metadata": {},
   "outputs": [],
   "source": [
    "while True:\n",
    "    try:\n",
    "        logout_btn = driver.find_element_by_id(\"logout\")\n",
    "        logout_btn.click()\n",
    "        sleep(5)\n",
    "        break\n",
    "    except Exception:\n",
    "        while check_refresh() == False:\n",
    "            driver.refresh()\n",
    "            sleep(5)"
   ]
  },
  {
   "cell_type": "code",
   "execution_count": null,
   "metadata": {},
   "outputs": [],
   "source": [
    "driver.delete_all_cookies()\n",
    "driver.close()"
   ]
  },
  {
   "cell_type": "code",
   "execution_count": null,
   "metadata": {},
   "outputs": [],
   "source": []
  }
 ],
 "metadata": {
  "kernelspec": {
   "display_name": "Python 3",
   "language": "python",
   "name": "python3"
  },
  "language_info": {
   "codemirror_mode": {
    "name": "ipython",
    "version": 3
   },
   "file_extension": ".py",
   "mimetype": "text/x-python",
   "name": "python",
   "nbconvert_exporter": "python",
   "pygments_lexer": "ipython3",
   "version": "3.7.3"
  }
 },
 "nbformat": 4,
 "nbformat_minor": 2
}
