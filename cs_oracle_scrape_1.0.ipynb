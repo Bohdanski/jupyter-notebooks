{
 "cells": [
  {
   "cell_type": "code",
   "execution_count": null,
   "metadata": {},
   "outputs": [],
   "source": [
    "from time import sleep\n",
    "from selenium import webdriver\n",
    "from selenium.webdriver.common.keys import Keys\n",
    "from selenium.common.exceptions import NoSuchElementException"
   ]
  },
  {
   "cell_type": "code",
   "execution_count": null,
   "metadata": {},
   "outputs": [],
   "source": [
    "driver = webdriver.Chrome(\"C:\\\\Users\\\\tubxt2p\\\\Downloads\\\\chromedriver_win32\\\\chromedriver.exe\")"
   ]
  },
  {
   "cell_type": "code",
   "execution_count": null,
   "metadata": {},
   "outputs": [],
   "source": [
    "def log_in(username, password):\n",
    "    \"\"\"\n",
    "    Takes in user credentials and logs into the website\n",
    "    \"\"\"\n",
    "    username_field = driver.find_element_by_name(\"username\")\n",
    "    username_field.send_keys(username)\n",
    "\n",
    "    password_field = driver.find_element_by_name(\"password\")\n",
    "    password_field.send_keys(password)\n",
    "\n",
    "    password_field.send_keys(Keys.ENTER)\n",
    "    sleep(5)"
   ]
  },
  {
   "cell_type": "code",
   "execution_count": null,
   "metadata": {},
   "outputs": [],
   "source": [
    "def check_refresh():\n",
    "    \"\"\"\n",
    "    Check if Oracle DB is prompting Adobe Flash Update.\n",
    "    \"\"\"\n",
    "    try:\n",
    "        driver.find_element_by_class_name(\"HeaderLogo\")\n",
    "    except NoSuchElementException:\n",
    "        return True\n",
    "    return False"
   ]
  },
  {
   "cell_type": "code",
   "execution_count": null,
   "metadata": {},
   "outputs": [],
   "source": [
    "def click_element(path, method):\n",
    "    \"\"\"\n",
    "    Main function to interact with different webpage elements.\n",
    "    Paramaeters are the path or id of the element that is being interacted with\n",
    "    as well as the method Selenium is using to find the element.\n",
    "    \"\"\"\n",
    "    while True:\n",
    "        try:\n",
    "            if method == \"xpath\":\n",
    "                element = driver.find_element_by_xpath(path)\n",
    "            elif method == \"class\":\n",
    "                element = driver.find_element_by_class_name(path)\n",
    "            elif method == \"id\":\n",
    "                element = driver.find_element_by_id(path)\n",
    "            else:\n",
    "                raise NameError(\"The specified method is not defined.\")\n",
    "            element.click()\n",
    "            sleep(5)\n",
    "            break\n",
    "        except Exception:\n",
    "            while check_refresh() == True:\n",
    "                driver.refresh()\n",
    "                sleep(5)"
   ]
  },
  {
   "cell_type": "code",
   "execution_count": null,
   "metadata": {},
   "outputs": [],
   "source": [
    "driver.get(\"https://tinyurl.com/yx6l85d8\")"
   ]
  },
  {
   "cell_type": "code",
   "execution_count": null,
   "metadata": {},
   "outputs": [],
   "source": [
    "log_in(\"\", \"\")"
   ]
  },
  {
   "cell_type": "code",
   "execution_count": null,
   "metadata": {},
   "outputs": [],
   "source": [
    "click_element('//*[@title=\"Customer Detail Export Dashboard - Standard SL Export\"]', \"xpath\")"
   ]
  },
  {
   "cell_type": "code",
   "execution_count": null,
   "metadata": {},
   "outputs": [],
   "source": [
    "click_element(\"promptDropDownButton\", \"class\")"
   ]
  },
  {
   "cell_type": "code",
   "execution_count": null,
   "metadata": {},
   "outputs": [],
   "source": [
    "click_element('//*[@title=\"WTD\"]', \"xpath\")"
   ]
  },
  {
   "cell_type": "code",
   "execution_count": null,
   "metadata": {},
   "outputs": [],
   "source": [
    "click_element(\"gobtn\", \"id\")"
   ]
  },
  {
   "cell_type": "code",
   "execution_count": null,
   "metadata": {},
   "outputs": [],
   "source": [
    "click_element('//*[@title=\"Export to different format\"]', \"xpath\")"
   ]
  },
  {
   "cell_type": "code",
   "execution_count": null,
   "metadata": {},
   "outputs": [],
   "source": [
    "click_element('//*[@title=\"Download columnar data\"]', \"xpath\")"
   ]
  },
  {
   "cell_type": "code",
   "execution_count": null,
   "metadata": {},
   "outputs": [],
   "source": [
    "click_element('//*[@aria-label=\"Tab delimited Format\"]', \"xpath\")"
   ]
  },
  {
   "cell_type": "code",
   "execution_count": null,
   "metadata": {},
   "outputs": [],
   "source": [
    "click_element('//*[@name=\"OK\"]', \"xpath\")"
   ]
  },
  {
   "cell_type": "code",
   "execution_count": null,
   "metadata": {},
   "outputs": [],
   "source": [
    "click_element(\"logout\", \"id\")"
   ]
  },
  {
   "cell_type": "code",
   "execution_count": null,
   "metadata": {},
   "outputs": [],
   "source": [
    "driver.delete_all_cookies()\n",
    "driver.close()"
   ]
  },
  {
   "cell_type": "code",
   "execution_count": null,
   "metadata": {},
   "outputs": [],
   "source": []
  }
 ],
 "metadata": {
  "kernelspec": {
   "display_name": "Python 3",
   "language": "python",
   "name": "python3"
  },
  "language_info": {
   "codemirror_mode": {
    "name": "ipython",
    "version": 3
   },
   "file_extension": ".py",
   "mimetype": "text/x-python",
   "name": "python",
   "nbconvert_exporter": "python",
   "pygments_lexer": "ipython3",
   "version": "3.7.3"
  }
 },
 "nbformat": 4,
 "nbformat_minor": 2
}
