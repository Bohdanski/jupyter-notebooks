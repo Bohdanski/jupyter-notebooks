{
 "cells": [
  {
   "cell_type": "code",
   "execution_count": null,
   "metadata": {},
   "outputs": [],
   "source": [
    "import os\n",
    "import re\n",
    "import glob\n",
    "import zipfile\n",
    "import fnmatch\n",
    "import datetime\n",
    "from zipfile import ZipFile\n",
    "import pandas as pd\n",
    "from pandas import DataFrame"
   ]
  },
  {
   "cell_type": "code",
   "execution_count": null,
   "metadata": {},
   "outputs": [],
   "source": [
    "def find_sheet(sheet_list, sheet_name):\n",
    "    return [x for x in sheet_list if re.search(sheet_name.lower(), x.lower())]"
   ]
  },
  {
   "cell_type": "code",
   "execution_count": null,
   "metadata": {},
   "outputs": [],
   "source": [
    "def create_timestamp():\n",
    "\n",
    "    today = datetime.date.today()\n",
    "    year = today.year\n",
    "    month = today.month\n",
    "    day = today.day\n",
    "    \n",
    "    timestamp = str(year)+str(month)+str(day)\n",
    "    \n",
    "    return timestamp"
   ]
  },
  {
   "cell_type": "code",
   "execution_count": null,
   "metadata": {},
   "outputs": [],
   "source": [
    "data_dir = \".\\\\excel\\\\data\\\\\"\n",
    "archive_dir = \".\\\\excel\\\\archive\\\\\"\n",
    "\n",
    "if not os.path.exists(archive_dir):\n",
    "    os.makedirs(archive_dir)\n",
    "    if not os.path.exists(data_dir):\n",
    "        os.makedirs(data_dir)\n",
    "    # exit() Use in stand-alone script."
   ]
  },
  {
   "cell_type": "code",
   "execution_count": null,
   "metadata": {},
   "outputs": [],
   "source": [
    "for zip_file in os.listdir(data_dir):\n",
    "    with ZipFile(data_dir + zip_file, \"r\") as zip_obj:\n",
    "        zip_obj.extractall(data_dir)\n",
    "    os.remove(data_dir + zip_file)"
   ]
  },
  {
   "cell_type": "code",
   "execution_count": null,
   "metadata": {},
   "outputs": [],
   "source": [
    "# Version 1\n",
    "\n",
    "file_list = glob.glob(data_dir + \"*.xlsx\")\n",
    "\n",
    "for xl_file in file_list:\n",
    "    sheets = pd.ExcelFile(xl_file).sheet_names\n",
    "    workbook = pd.ExcelFile(xl_file)\n",
    "\n",
    "    if fnmatch.fnmatch(xl_file.lower(), \"*grocery*.xlsx\") == True:        \n",
    "        df_grocery = workbook.parse(0)\n",
    "        df_frozen = workbook.parse(1)\n",
    "        df_dairy = workbook.parse(2)\n",
    "#         df_grocery = pd.read_excel(xl_file, find_sheet(sheets, \"grocery\"))\n",
    "#         df_frozen = pd.read_excel(xl_file, find_sheet(sheets, \"frozen\"))\n",
    "#         df_dairy = pd.read_excel(xl_file, find_sheet(sheets, \"dairy\"))\n",
    "    elif fnmatch.fnmatch(xl_file.lower(), \"*hbc*.xlsx\") == True:\n",
    "        df_hbc = workbook.parse(0)\n",
    "    elif fnmatch.fnmatch(xl_file.lower(), \"*perish*.xlsx\") == True:\n",
    "        df_perish = workbook.parse(0)\n",
    "        \n",
    "cs_list = [df_grocery, df_frozen, df_dairy, df_hbc, df_perish]\n",
    "df_cs_data = pd.concat(cs_list)\n",
    "df_cs_data"
   ]
  },
  {
   "cell_type": "code",
   "execution_count": null,
   "metadata": {},
   "outputs": [],
   "source": [
    "# Version 2\n",
    "\n",
    "xl_list = glob.glob(data_dir + \"*.xlsx\")\n",
    "cs_list = []\n",
    "\n",
    "for xl_file in xl_list:\n",
    "    sheet_list = pd.ExcelFile(xl_file).sheet_names\n",
    "    workbook = pd.ExcelFile(xl_file)\n",
    "    \n",
    "    for (index, sheet) in enumerate(workbook.sheet_names):\n",
    "        cs_list.append(workbook.parse(index))    \n",
    "#     cs_list = [workbook.parse(x) for x, y in enumerate(workbook.sheet_names)]\n",
    "df_cs_data = pd.concat(cs_list)\n",
    "df_cs_data"
   ]
  },
  {
   "cell_type": "code",
   "execution_count": null,
   "metadata": {},
   "outputs": [],
   "source": [
    "# Use code later to clean file\n",
    "\n",
    "# val = df_grocery.iloc[:, [0, 1, 2, 3, 4, 5, 22, 23, 6, 7, 8, 9, 10, 11, 12]]\n",
    "# val"
   ]
  },
  {
   "cell_type": "code",
   "execution_count": null,
   "metadata": {},
   "outputs": [],
   "source": [
    "df_cs_data.to_excel(f\"{archive_dir}CS-Sales-Change-{create_timestamp()}.xlsx\")"
   ]
  },
  {
   "cell_type": "code",
   "execution_count": null,
   "metadata": {},
   "outputs": [],
   "source": []
  }
 ],
 "metadata": {
  "kernelspec": {
   "display_name": "Python 3",
   "language": "python",
   "name": "python3"
  },
  "language_info": {
   "codemirror_mode": {
    "name": "ipython",
    "version": 3
   },
   "file_extension": ".py",
   "mimetype": "text/x-python",
   "name": "python",
   "nbconvert_exporter": "python",
   "pygments_lexer": "ipython3",
   "version": "3.7.3"
  }
 },
 "nbformat": 4,
 "nbformat_minor": 2
}
