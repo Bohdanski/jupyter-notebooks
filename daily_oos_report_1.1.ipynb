{
 "cells": [
  {
   "cell_type": "code",
   "execution_count": 1,
   "metadata": {},
   "outputs": [],
   "source": [
    "import os\n",
    "import re\n",
    "import glob\n",
    "import zipfile\n",
    "import fnmatch\n",
    "import datetime\n",
    "import pandas as pd\n",
    "import numpy as np\n",
    "import openpyxl\n",
    "\n",
    "from zipfile import ZipFile\n",
    "from pandas import DataFrame\n",
    "from datetime import datetime\n",
    "from openpyxl import load_workbook"
   ]
  },
  {
   "cell_type": "code",
   "execution_count": 2,
   "metadata": {},
   "outputs": [],
   "source": [
    "def timestamp():\n",
    "    \"\"\"\n",
    "    Creates a timestamp in DB format.\n",
    "    \"\"\" \n",
    "    timestamp = datetime.today().strftime('%Y-%m-%d')\n",
    "    \n",
    "    return timestamp"
   ]
  },
  {
   "cell_type": "code",
   "execution_count": 3,
   "metadata": {},
   "outputs": [],
   "source": [
    "data_dir = \".\\\\excel\\\\data\\\\\"\n",
    "archive_dir = \".\\\\excel\\\\archive\\\\\"\n",
    "\n",
    "if not os.path.exists(archive_dir):\n",
    "    os.makedirs(archive_dir)\n",
    "if not os.path.exists(data_dir):\n",
    "    os.makedirs(data_dir)"
   ]
  },
  {
   "cell_type": "code",
   "execution_count": 4,
   "metadata": {},
   "outputs": [
    {
     "name": "stdout",
     "output_type": "stream",
     "text": [
      "Creating DataFrame for '.\\excel\\data\\Mid-Week OOS - Base.xlsx'...\n",
      "'.\\excel\\data\\Mid-Week OOS - Base.xlsx' Successfully processed\n",
      "\n",
      "Creating DataFrame for '.\\excel\\data\\Mid-Week OOS - Current Day Shorts.xlsx'...\n",
      "'.\\excel\\data\\Mid-Week OOS - Current Day Shorts.xlsx' Successfully processed\n",
      "\n",
      "Creating DataFrame for '.\\excel\\data\\Mid-Week OOS - Reason Code.xlsx'...\n",
      "'.\\excel\\data\\Mid-Week OOS - Reason Code.xlsx' Successfully processed\n",
      "\n",
      "Creating DataFrame for '.\\excel\\data\\Standard SL Export Detail.xlsx'...\n",
      "'.\\excel\\data\\Standard SL Export Detail.xlsx' Successfully processed\n",
      "\n"
     ]
    }
   ],
   "source": [
    "xl_list = glob.glob(data_dir + \"*.xlsx\")\n",
    "\n",
    "for xl_file in xl_list:\n",
    "    workbook = pd.ExcelFile(xl_file)\n",
    "\n",
    "    if fnmatch.fnmatch(xl_file.lower(), \"*base*.xlsx\") == True:\n",
    "        print(f\"Creating DataFrame for '{xl_file}'...\")\n",
    "        \n",
    "        df_base = workbook.parse(0, skiprows=1, header=None)\n",
    "        df_base.columns = [\"dept\", \n",
    "                           \"category\", \n",
    "                           \"itemDesc\", \n",
    "                           \"itemCode\", \n",
    "                           \"itemSize\", \n",
    "                           \"pvtLblFlag\", \n",
    "                           \"buyerCode\", \n",
    "                           \"invUnitShipped\", \n",
    "                           \"invCaseShipped\", \n",
    "                           \"storeOrdProdQty\", \n",
    "                           \"shortedQty\", \n",
    "                           \"grossSvcLvl\", \n",
    "                           \"netSvcLvl\"]\n",
    "        df_base[\"itemCode\"] = df_base[\"itemCode\"].map('{:0>6}'.format)\n",
    "        df_base[\"buyerCode\"] = df_base[\"buyerCode\"] * 10\n",
    "        df_base[\"itemDesc\"] = df_base[\"itemDesc\"] + \"   \" + df_base[\"itemSize\"]\n",
    "        \n",
    "        print(f\"'{xl_file}' Successfully processed\\n\")     \n",
    "    elif fnmatch.fnmatch(xl_file.lower(), \"*short*.xlsx\") == True:\n",
    "        print(f\"Creating DataFrame for '{xl_file}'...\")\n",
    "        \n",
    "        df_shorts = workbook.parse(0, skiprows=1, header=None)\n",
    "        df_shorts.columns = [\"itemDesc\", \n",
    "                             \"itemCode\", \n",
    "                             \"yesterdayOOS\"]\n",
    "        df_shorts[\"itemCode\"] = df_shorts[\"itemCode\"].map('{:0>6}'.format)\n",
    "        df_shorts.drop(columns=[\"itemDesc\"], inplace=True)\n",
    "        \n",
    "        print(f\"'{xl_file}' Successfully processed\\n\")        \n",
    "    elif fnmatch.fnmatch(xl_file.lower(), \"*reason*.xlsx\") == True:\n",
    "        print(f\"Creating DataFrame for '{xl_file}'...\")\n",
    "        \n",
    "        df_reason = workbook.parse(0, skiprows=2, header=None)\n",
    "        df_reason.columns = [\"dept\", \n",
    "                             \"category\", \n",
    "                             \"itemDesc\", \n",
    "                             \"itemCode\", \n",
    "                             \"outOfStock\", \n",
    "                             \"manufacIssue\",\n",
    "                             \"disc\",\n",
    "                             \"other\",\n",
    "                             \"newItemIssue\"]\n",
    "        df_reason[\"itemCode\"] = df_reason[\"itemCode\"].map('{:0>6}'.format)\n",
    "        df_reason[\"max\"] = df_reason[[df_reason.columns[4], \n",
    "                                      df_reason.columns[5], \n",
    "                                      df_reason.columns[6], \n",
    "                                      df_reason.columns[7], \n",
    "                                      df_reason.columns[8]]].max(axis=1)\n",
    "        df_reason.loc[df_reason[\"max\"] == df_reason[\"outOfStock\"], \"primaryReason\"] = \"Out Of Stock\"\n",
    "        df_reason.loc[df_reason[\"max\"] == df_reason[\"manufacIssue\"], \"primaryReason\"] = \"Manufacturer Issue\"\n",
    "        df_reason.loc[df_reason[\"max\"] == df_reason[\"disc\"], \"primaryReason\"] = \"Discontinued\"\n",
    "        df_reason.loc[df_reason[\"max\"] == df_reason[\"other\"], \"primaryReason\"] = \"Other\"\n",
    "        df_reason.loc[df_reason[\"max\"] == df_reason[\"newItemIssue\"], \"primaryReason\"] = \"New Item Issue\"\n",
    "        df_reason.sort_values(by=[\"max\"], ascending=False, inplace=True)\n",
    "        df_reason.drop(columns=[\"dept\", \n",
    "                                \"category\", \n",
    "                                \"itemDesc\", \n",
    "                                \"outOfStock\", \n",
    "                                \"manufacIssue\", \n",
    "                                \"disc\", \n",
    "                                \"other\", \n",
    "                                \"newItemIssue\", \n",
    "                                \"max\"], inplace=True)\n",
    "        \n",
    "        print(f\"'{xl_file}' Successfully processed\\n\")        \n",
    "    elif fnmatch.fnmatch(xl_file.lower(), \"*export*.xlsx\") == True:\n",
    "        print(f\"Creating DataFrame for '{xl_file}'...\")\n",
    "        \n",
    "        to_drop = [\"14:HATFIELD NORTH\", \"1:BRATTLEBORO\"]\n",
    "        \n",
    "        df_cs = workbook.parse(0, skiprows=3, skipfooter=20, header=None)\n",
    "        df_cs = df_cs[~df_cs[7].isin(to_drop)]\n",
    "        df_cs = df_cs.filter([0, 14, 15, 17, 34])\n",
    "        df_cs.columns = [\"custCode\", \n",
    "                         \"poDueDate\", \n",
    "                         \"poApptDate\", \n",
    "                         \"inStock\", \n",
    "                         \"daysOOS\"]\n",
    "        df_cs[\"itemCode\"] = df_cs[\"custCode\"].astype(str).str[9:15]\n",
    "        df_cs.drop(columns=[\"custCode\"], inplace=True)\n",
    "        df_cs.drop_duplicates(inplace=True)\n",
    "        print(f\"'{xl_file}' Successfully processed\\n\")"
   ]
  },
  {
   "cell_type": "code",
   "execution_count": 5,
   "metadata": {},
   "outputs": [
    {
     "name": "stdout",
     "output_type": "stream",
     "text": [
      "Exporting to Excel...\n"
     ]
    }
   ],
   "source": [
    "try:\n",
    "    df_join_1 = df_base.merge(df_reason, how=\"left\", on=\"itemCode\")\n",
    "    df_join_2 = df_join_1.merge(df_shorts, how=\"left\", on=\"itemCode\")\n",
    "    df_join_3 = df_join_2.merge(df_cs, how=\"left\", on=\"itemCode\")\n",
    "    \n",
    "    print(\"Exporting to Excel...\")\n",
    "    df_join_3.to_excel(f\".\\\\excel\\\\archive\\\\oos-data-{timestamp()}.xlsx\", index=False)\n",
    "except:\n",
    "    df_join_1 = df_base.merge(df_reason, how=\"left\", on=\"itemCode\")\n",
    "    df_join_2 = df_join_1.merge(df_shorts, how=\"left\", on=\"itemCode\")\n",
    "\n",
    "    df_join_2[\"poDueDate\"] = \"NO CS DATA\"\n",
    "    df_join_2[\"poApptDate\"] = \"NO CS DATA\"\n",
    "    df_join_2[\"inStock\"] = \"NO CS DATA\"\n",
    "    df_join_2[\"daysOOS\"] = \"NO CS DATA\"\n",
    "    \n",
    "    print(\"Exporting to Excel...\")\n",
    "    df_join_2.to_excel(f\".\\\\excel\\\\archive\\\\oos-data-{timestamp()}.xlsx\", index=False)"
   ]
  },
  {
   "cell_type": "code",
   "execution_count": null,
   "metadata": {},
   "outputs": [],
   "source": []
  }
 ],
 "metadata": {
  "kernelspec": {
   "display_name": "Python 3",
   "language": "python",
   "name": "python3"
  },
  "language_info": {
   "codemirror_mode": {
    "name": "ipython",
    "version": 3
   },
   "file_extension": ".py",
   "mimetype": "text/x-python",
   "name": "python",
   "nbconvert_exporter": "python",
   "pygments_lexer": "ipython3",
   "version": "3.7.3"
  }
 },
 "nbformat": 4,
 "nbformat_minor": 2
}
