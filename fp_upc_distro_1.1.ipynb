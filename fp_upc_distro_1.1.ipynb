{
 "cells": [
  {
   "cell_type": "code",
   "execution_count": 17,
   "metadata": {},
   "outputs": [],
   "source": [
    "import os\n",
    "import glob\n",
    "import datetime\n",
    "import numpy as np\n",
    "import pandas as pd\n",
    "from pandas import DataFrame"
   ]
  },
  {
   "cell_type": "code",
   "execution_count": 18,
   "metadata": {},
   "outputs": [],
   "source": [
    "def extract_unique(frame, index, header):\n",
    "    \"\"\"\n",
    "    Feed a data frame through this function along with the\n",
    "    name and index of a column to extract all unique values.\n",
    "    \"\"\"\n",
    "    col_frame = DataFrame(frame.iloc[:, [index]])\n",
    "    unique_arr = col_frame[header].unique()\n",
    "\n",
    "    return unique_arr"
   ]
  },
  {
   "cell_type": "code",
   "execution_count": 19,
   "metadata": {},
   "outputs": [],
   "source": [
    "def file_name_check(name):\n",
    "    \"\"\"\n",
    "    Feed a string through this function and it will check\n",
    "    to see if the string contains any forbidden characters\n",
    "    that cannot be used within file name. If it find one of\n",
    "    these characters, the characters will be replaced by \" - \".\n",
    "    \"\"\"\n",
    "    exceptions = '\\/:*?\"<>|\"'\n",
    "\n",
    "    for char in name:\n",
    "        if char in exceptions:\n",
    "            name = name.replace(char, \" - \")\n",
    "\n",
    "    return name"
   ]
  },
  {
   "cell_type": "code",
   "execution_count": 20,
   "metadata": {},
   "outputs": [],
   "source": [
    "today = datetime.date.today()\n",
    "\n",
    "if not os.path.exists(f\"./data/FP-UPC-{today}/Totals\"):\n",
    "    os.makedirs(f\"./data/FP-UPC-{today}/Totals\")\n",
    "\n",
    "if not os.path.exists(\"./excel/archive\"):\n",
    "    os.makedirs(\"./excel/archive\")\n",
    "    exit()"
   ]
  },
  {
   "cell_type": "code",
   "execution_count": null,
   "metadata": {},
   "outputs": [],
   "source": [
    "file_name = \"\".join(glob.glob(\"./excel/*.xlsx\"))\n",
    "xl_file = pd.read_excel(file_name)\n",
    "xl_file.rename(str.strip, axis=\"columns\", inplace=True)\n",
    "\n",
    "upc_frame = DataFrame(xl_file[[\"UPC\", \"G/F\", \"PRODUCT GROUP\"]])\n",
    "upc_frame.dropna(subset=[\"G/F\", \"PRODUCT GROUP\"], inplace=True)\n",
    "\n",
    "gf_arr = extract_unique(upc_frame, 1, \"G/F\")\n",
    "prod_arr = extract_unique(upc_frame, 2, \"PRODUCT GROUP\")"
   ]
  },
  {
   "cell_type": "code",
   "execution_count": 22,
   "metadata": {},
   "outputs": [],
   "source": [
    "total_frame = DataFrame(upc_frame.iloc[:, [0]]).apply(lambda x: '%.0f' % x, axis=1)\n",
    "np.savetxt(r\"./data/FP-UPC-{}/Totals/Totals - All.txt\".format(today), total_frame.values, fmt=\"%s\")"
   ]
  },
  {
   "cell_type": "code",
   "execution_count": 23,
   "metadata": {},
   "outputs": [],
   "source": [
    "for gf in gf_arr:\n",
    "    gf_frame = upc_frame[upc_frame[\"G/F\"] == gf]\n",
    "    final_gf_frame = DataFrame(gf_frame.iloc[:, [0]]).apply(lambda x: '%.0f' % x, axis=1)\n",
    "\n",
    "    np.savetxt(r\"./data/FP-UPC-{}/Totals/Totals - {}.txt\".format(today, gf), final_gf_frame.values, fmt=\"%s\")"
   ]
  },
  {
   "cell_type": "code",
   "execution_count": 24,
   "metadata": {},
   "outputs": [],
   "source": [
    "for group in prod_arr:\n",
    "    prod_frame = upc_frame[upc_frame[\"PRODUCT GROUP\"] == group]\n",
    "    final_prod_frame = DataFrame(prod_frame.iloc[:, [0]]).apply(lambda x: '%.0f' % x, axis=1)\n",
    "\n",
    "    type_arr = extract_unique(prod_frame, 1, \"G/F\")\n",
    "    type_label = \"-\".join(type_arr)\n",
    "    group_label = file_name_check(group)\n",
    "\n",
    "    np.savetxt(r\"./data/FP-UPC-{}/{} - {}.txt\".format(today, type_label, group_label), final_prod_frame.values, fmt=\"%s\")"
   ]
  },
  {
   "cell_type": "code",
   "execution_count": null,
   "metadata": {},
   "outputs": [],
   "source": []
  },
  {
   "cell_type": "code",
   "execution_count": null,
   "metadata": {},
   "outputs": [],
   "source": []
  },
  {
   "cell_type": "code",
   "execution_count": null,
   "metadata": {},
   "outputs": [],
   "source": []
  }
 ],
 "metadata": {
  "kernelspec": {
   "display_name": "Python 3",
   "language": "python",
   "name": "python3"
  }
 },
 "nbformat": 4,
 "nbformat_minor": 2
}
