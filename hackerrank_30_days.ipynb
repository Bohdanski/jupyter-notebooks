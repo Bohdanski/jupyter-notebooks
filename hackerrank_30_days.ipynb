{
 "cells": [
  {
   "cell_type": "markdown",
   "metadata": {},
   "source": [
    "30 Days of Code - Day 2: Operators"
   ]
  },
  {
   "cell_type": "code",
   "execution_count": null,
   "metadata": {},
   "outputs": [],
   "source": [
    "def solve(meal_cost, tip_percent, tax_percent):\n",
    "    tip = meal_cost * (tip_percent/100)\n",
    "    tax = meal_cost * (tax_percent/100)\n",
    "    cost = round(meal_cost + tip + tax)\n",
    "\n",
    "    print(cost)\n",
    "    \n",
    "solve(12,20,8)"
   ]
  },
  {
   "cell_type": "markdown",
   "metadata": {},
   "source": [
    "30 Days of Code - Day 3: Intro to Conditional Statements"
   ]
  },
  {
   "cell_type": "code",
   "execution_count": null,
   "metadata": {},
   "outputs": [],
   "source": [
    "N = 50\n",
    "\n",
    "if N%2 != 0:\n",
    "    print(\"Weird\")\n",
    "elif (N%2 == 0) and (2 <= N <= 5):\n",
    "    print(\"Not Weird\")\n",
    "elif (N%2 == 0) and (6 <= N <= 20):\n",
    "    print(\"Weird\")\n",
    "elif (N%2 == 0) and (N > 20):\n",
    "    print(\"Not Weird\")"
   ]
  },
  {
   "cell_type": "markdown",
   "metadata": {},
   "source": [
    "30 Days of Code - Day 4: Class vs. Instance"
   ]
  },
  {
   "cell_type": "code",
   "execution_count": 13,
   "metadata": {},
   "outputs": [],
   "source": [
    "class Person:\n",
    "    def __init__(self,initialAge):\n",
    "        # Add some more code to run some checks on initialAge\n",
    "        self.initialAge = initialAge\n",
    "\n",
    "        if self.initialAge < 0:\n",
    "            self.initialAge = 0\n",
    "            print(\"Age is not valid, setting age to 0.\")            \n",
    "    def amIOld(self):\n",
    "        # Do some computations in here and print out the correct statement to the console\n",
    "        if self.initialAge < 13:\n",
    "            print(\"You are young.\")\n",
    "        elif 13 <= self.initialAge < 18:\n",
    "            print(\"You are a teenager.\")\n",
    "        else:\n",
    "            print(\"You are old.\")\n",
    "    def yearPasses(self):\n",
    "        # Increment the age of the person in here\n",
    "        self.initialAge += 1"
   ]
  },
  {
   "cell_type": "code",
   "execution_count": 17,
   "metadata": {},
   "outputs": [
    {
     "name": "stdout",
     "output_type": "stream",
     "text": [
      "1\n",
      "-1\n",
      "Age is not valid, setting age to 0.\n",
      "You are young.\n",
      "You are young.\n",
      "\n"
     ]
    }
   ],
   "source": [
    "t = int(input())\n",
    "for i in range(0, t):\n",
    "    age = int(input())         \n",
    "    p = Person(age)  \n",
    "    p.amIOld()\n",
    "    for j in range(0, 3):\n",
    "        p.yearPasses()       \n",
    "    p.amIOld()\n",
    "    print(\"\")"
   ]
  },
  {
   "cell_type": "markdown",
   "metadata": {},
   "source": [
    "30 Days of Code - Day 5: Loops"
   ]
  },
  {
   "cell_type": "code",
   "execution_count": null,
   "metadata": {},
   "outputs": [],
   "source": [
    "i = 2\n",
    "\n",
    "for num in range(1,11):\n",
    "    print(f\"{i} x {num} = {i * num}\")"
   ]
  },
  {
   "cell_type": "markdown",
   "metadata": {},
   "source": [
    "30 Days of Code - Day 6: Let's Review"
   ]
  },
  {
   "cell_type": "code",
   "execution_count": null,
   "metadata": {},
   "outputs": [],
   "source": [
    "s = \"eovdedn\"\n",
    "\n",
    "# String slicing, conditonal, list comprehension, for loop, Indexing\n",
    "print(s[::2], \"\".join([(x) if i%2!=0 else \"\" for i,x in enumerate(s)]))\n",
    "\n",
    "# String slicing\n",
    "print(s[0::2], s[1::2])"
   ]
  },
  {
   "cell_type": "markdown",
   "metadata": {},
   "source": [
    "30 Days of Code - Day 7: Arrays"
   ]
  },
  {
   "cell_type": "code",
   "execution_count": null,
   "metadata": {},
   "outputs": [],
   "source": [
    "arr = [1, 2, 3, 4]\n",
    "print(\" \".join([str(x) for x in arr[::-1]]))"
   ]
  },
  {
   "cell_type": "markdown",
   "metadata": {},
   "source": [
    "30 Days of Code - Day 8: Dictionaries and Maps"
   ]
  },
  {
   "cell_type": "code",
   "execution_count": 1,
   "metadata": {},
   "outputs": [],
   "source": [
    "def phonebook(info_dict, name):\n",
    "    try:\n",
    "        print(f\"{name}={info_dict[name]}\")\n",
    "    except:\n",
    "        print(\"Not found\")"
   ]
  },
  {
   "cell_type": "code",
   "execution_count": 2,
   "metadata": {},
   "outputs": [
    {
     "name": "stdout",
     "output_type": "stream",
     "text": [
      "1\n",
      "test 123\n",
      "test\n",
      "test=123\n"
     ]
    }
   ],
   "source": [
    "n = int(input())\n",
    "name_numbers = dict(input().split() for _ in range(n))\n",
    "\n",
    "for i in range(n):\n",
    "    x = input()\n",
    "    phonebook(name_numbers, x)"
   ]
  },
  {
   "cell_type": "code",
   "execution_count": null,
   "metadata": {},
   "outputs": [],
   "source": [
    "n = int(input())\n",
    "d = dict(input().split() for _ in range(n))\n",
    "for i in range(n):\n",
    "    x = input()\n",
    "    try:\n",
    "        print(x+'='+d[x])\n",
    "    except KeyError:\n",
    "        print('Not found')"
   ]
  },
  {
   "cell_type": "markdown",
   "metadata": {},
   "source": [
    "30 Days of Code - Day 9: Recursion 3"
   ]
  },
  {
   "cell_type": "code",
   "execution_count": 98,
   "metadata": {},
   "outputs": [],
   "source": [
    "def factorial(n):\n",
    "    if n <= 1:\n",
    "        return 1\n",
    "    else:\n",
    "        return n * factorial(n - 1)"
   ]
  },
  {
   "cell_type": "code",
   "execution_count": 99,
   "metadata": {},
   "outputs": [
    {
     "name": "stdout",
     "output_type": "stream",
     "text": [
      "5\n"
     ]
    },
    {
     "data": {
      "text/plain": [
       "120"
      ]
     },
     "execution_count": 99,
     "metadata": {},
     "output_type": "execute_result"
    }
   ],
   "source": [
    "n = int(input())\n",
    "result = factorial(n)\n",
    "result"
   ]
  },
  {
   "cell_type": "markdown",
   "metadata": {},
   "source": [
    "30 Days of Code - Day 10: Binary Numbers"
   ]
  },
  {
   "cell_type": "code",
   "execution_count": 58,
   "metadata": {},
   "outputs": [
    {
     "name": "stdout",
     "output_type": "stream",
     "text": [
      "3\n"
     ]
    }
   ],
   "source": [
    "n = bin(23)[2:]\n",
    "\n",
    "print(len(max([list(x) for x in n.split(str(0))])))"
   ]
  },
  {
   "cell_type": "code",
   "execution_count": null,
   "metadata": {},
   "outputs": [],
   "source": []
  },
  {
   "cell_type": "code",
   "execution_count": null,
   "metadata": {},
   "outputs": [],
   "source": []
  },
  {
   "cell_type": "code",
   "execution_count": null,
   "metadata": {},
   "outputs": [],
   "source": []
  }
 ],
 "metadata": {
  "kernelspec": {
   "display_name": "Python 3",
   "language": "python",
   "name": "python3"
  },
  "language_info": {
   "codemirror_mode": {
    "name": "ipython",
    "version": 3
   },
   "file_extension": ".py",
   "mimetype": "text/x-python",
   "name": "python",
   "nbconvert_exporter": "python",
   "pygments_lexer": "ipython3",
   "version": "3.7.3"
  }
 },
 "nbformat": 4,
 "nbformat_minor": 2
}
