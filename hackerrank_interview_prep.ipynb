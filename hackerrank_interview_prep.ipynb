{
 "cells": [
  {
   "cell_type": "markdown",
   "metadata": {},
   "source": [
    "Sales By Match"
   ]
  },
  {
   "cell_type": "code",
   "execution_count": 19,
   "metadata": {},
   "outputs": [],
   "source": [
    "n = 9\n",
    "ar = [10, 20, 20, 10, 10, 30, 50, 10, 20]"
   ]
  },
  {
   "cell_type": "code",
   "execution_count": 25,
   "metadata": {},
   "outputs": [],
   "source": [
    "def count_pairs(n, ar):\n",
    "    \"\"\" Count how many pairs of numbers within list input \"\"\"\n",
    "    \n",
    "    # Extract all unique list values into separate list\n",
    "    unique_val = []\n",
    "    for i in ar:\n",
    "        if i not in unique_val:\n",
    "            unique_val.append(i)\n",
    "    \n",
    "    # Stackoverflow alternative        \n",
    "    # unique_val = list(set(ar))\n",
    "           \n",
    "    pairs = 0\n",
    "    for i in unique_val:\n",
    "        # Count each occurence of each unique value\n",
    "        val_cnt = ar.count(i)\n",
    "        # If the value is even, calculate number of pairs\n",
    "        if val_cnt % 2 == 0:\n",
    "            pairs += val_cnt / 2\n",
    "        # If value is not even but greater than 1, \n",
    "        # take away 1 to make it even then calculate number of pairs\n",
    "        elif val_cnt > 1:\n",
    "            pairs += (val_cnt - 1) / 2\n",
    "    \n",
    "    # Convert final number to integer\n",
    "    return int(pairs)"
   ]
  },
  {
   "cell_type": "code",
   "execution_count": 26,
   "metadata": {},
   "outputs": [
    {
     "data": {
      "text/plain": [
       "3"
      ]
     },
     "execution_count": 26,
     "metadata": {},
     "output_type": "execute_result"
    }
   ],
   "source": [
    "count_pairs(n, ar)"
   ]
  },
  {
   "cell_type": "markdown",
   "metadata": {},
   "source": [
    "Counting Valleys"
   ]
  },
  {
   "cell_type": "code",
   "execution_count": 3,
   "metadata": {},
   "outputs": [],
   "source": [
    "steps = 8\n",
    "path = \"DDUUDDUDUUUD\"\n",
    "# UDDDUDUU\n",
    "# DDUUUUDD\n",
    "# DDUUDDUDUUUD"
   ]
  },
  {
   "cell_type": "code",
   "execution_count": 43,
   "metadata": {},
   "outputs": [],
   "source": [
    "def countingValleys(steps, path):\n",
    "    \"\"\" Count how many times the path bottoms out, and returns to sea level \"\"\"\n",
    "    \n",
    "    # Keep track of the height related to sea level as the path goes on\n",
    "    height = 0\n",
    "    chart = []\n",
    "    for i in path:\n",
    "        if i.lower() == \"u\":\n",
    "            height += 1\n",
    "        elif i.lower() == \"d\":\n",
    "            height -= 1\n",
    "        \n",
    "        # Append numeric values to a list\n",
    "        chart.append(height)\n",
    "    \n",
    "    # As the list iterates forward, if the prior value was negative\n",
    "    # before returning to zero, we must have been in a valley\n",
    "    valleys = 0\n",
    "    for i, j in enumerate(chart):\n",
    "        if j == 0 and chart[i-1] < 0:\n",
    "            valleys += 1\n",
    "        \n",
    "    return valleys"
   ]
  },
  {
   "cell_type": "code",
   "execution_count": 44,
   "metadata": {},
   "outputs": [
    {
     "data": {
      "text/plain": [
       "2"
      ]
     },
     "execution_count": 44,
     "metadata": {},
     "output_type": "execute_result"
    }
   ],
   "source": [
    "countingValleys(steps, path)"
   ]
  },
  {
   "cell_type": "markdown",
   "metadata": {},
   "source": [
    "Jumping on the Clouds"
   ]
  },
  {
   "cell_type": "code",
   "execution_count": 45,
   "metadata": {},
   "outputs": [],
   "source": [
    "c = [0, 0, 0, 0, 1, 0]"
   ]
  },
  {
   "cell_type": "code",
   "execution_count": 46,
   "metadata": {},
   "outputs": [],
   "source": [
    "def jumpingOnClouds(c):\n",
    "    \n",
    "    pass\n",
    "    "
   ]
  },
  {
   "cell_type": "code",
   "execution_count": 47,
   "metadata": {},
   "outputs": [],
   "source": [
    "jumpingOnClouds(c)"
   ]
  },
  {
   "cell_type": "markdown",
   "metadata": {},
   "source": [
    "2D Array - DS"
   ]
  },
  {
   "cell_type": "code",
   "execution_count": 57,
   "metadata": {},
   "outputs": [],
   "source": [
    "# arr = []\n",
    "\n",
    "# for _ in range(6):\n",
    "#     arr.append(list(map(int, input().rstrip().split())))\n",
    "\n",
    "arr = [[1, 1, 1, 0, 0, 0], \n",
    "       [0, 1, 0, 0, 0, 0], \n",
    "       [1, 1, 1, 0, 0, 0], \n",
    "       [0, 0, 2, 4, 4, 0], \n",
    "       [0, 0, 0, 2, 0, 0], \n",
    "       [0, 0, 1, 2, 4, 0]]"
   ]
  },
  {
   "cell_type": "code",
   "execution_count": 93,
   "metadata": {},
   "outputs": [],
   "source": [
    "def hourglassSum(arr):\n",
    "    for i in range(0, len(arr)-2):\n",
    "        for j in range(0, len(arr)-2):\n",
    "            print(i, j)\n",
    "            \n",
    "            \n",
    "#         for j in arr\n",
    "#             print(j)"
   ]
  },
  {
   "cell_type": "code",
   "execution_count": 94,
   "metadata": {},
   "outputs": [
    {
     "name": "stdout",
     "output_type": "stream",
     "text": [
      "0 0\n",
      "0 1\n",
      "0 2\n",
      "0 3\n",
      "1 0\n",
      "1 1\n",
      "1 2\n",
      "1 3\n",
      "2 0\n",
      "2 1\n",
      "2 2\n",
      "2 3\n",
      "3 0\n",
      "3 1\n",
      "3 2\n",
      "3 3\n"
     ]
    }
   ],
   "source": [
    "hourglassSum(arr)"
   ]
  },
  {
   "cell_type": "code",
   "execution_count": 82,
   "metadata": {},
   "outputs": [
    {
     "name": "stdout",
     "output_type": "stream",
     "text": [
      "0\n",
      "1\n",
      "2\n"
     ]
    }
   ],
   "source": [
    "for i in range(0, 3):\n",
    "    print(i)"
   ]
  },
  {
   "cell_type": "code",
   "execution_count": null,
   "metadata": {},
   "outputs": [],
   "source": []
  }
 ],
 "metadata": {
  "kernelspec": {
   "display_name": "Python 3",
   "language": "python",
   "name": "python3"
  },
  "language_info": {
   "codemirror_mode": {
    "name": "ipython",
    "version": 3
   },
   "file_extension": ".py",
   "mimetype": "text/x-python",
   "name": "python",
   "nbconvert_exporter": "python",
   "pygments_lexer": "ipython3",
   "version": "3.8.5"
  }
 },
 "nbformat": 4,
 "nbformat_minor": 4
}
