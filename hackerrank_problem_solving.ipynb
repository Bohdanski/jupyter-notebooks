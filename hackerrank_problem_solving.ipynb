{
 "cells": [
  {
   "cell_type": "markdown",
   "metadata": {},
   "source": [
    "Problem Solving - Staircase"
   ]
  },
  {
   "cell_type": "code",
   "execution_count": 1,
   "metadata": {},
   "outputs": [
    {
     "name": "stdout",
     "output_type": "stream",
     "text": [
      "10\n",
      "         #\n",
      "        ##\n",
      "       ###\n",
      "      ####\n",
      "     #####\n",
      "    ######\n",
      "   #######\n",
      "  ########\n",
      " #########\n",
      "##########\n"
     ]
    }
   ],
   "source": [
    "def staircase(n):\n",
    "    i = 1\n",
    "\n",
    "    while i < n+1:\n",
    "        print(\" \"*(n-i)+\"#\"*i)\n",
    "        i += 1\n",
    "        \n",
    "n = int(input())\n",
    "staircase(n)"
   ]
  },
  {
   "cell_type": "markdown",
   "metadata": {},
   "source": [
    "Problem Solving - Plus Minus"
   ]
  },
  {
   "cell_type": "code",
   "execution_count": null,
   "metadata": {},
   "outputs": [],
   "source": [
    "def plusMinus(arr):\n",
    "    pos_list = []\n",
    "    neg_list = []\n",
    "    zero_list = []\n",
    "\n",
    "    for num in arr:\n",
    "        if num > 0:\n",
    "            pos_list.append(num)\n",
    "        elif num < 0:\n",
    "            neg_list.append(num)\n",
    "        elif num == 0:\n",
    "            zero_list.append(num)\n",
    "\n",
    "    print(round(len(pos_list)/n,6))\n",
    "    print(round(len(neg_list)/n,6))\n",
    "    print(round(len(zero_list)/n,6))\n",
    "    \n",
    "n = int(input())\n",
    "arr = list(map(int, input().rstrip().split()))\n",
    "plusMinus(arr)"
   ]
  },
  {
   "cell_type": "markdown",
   "metadata": {},
   "source": [
    "Problem Solving - Birthday Cake Candles"
   ]
  },
  {
   "cell_type": "code",
   "execution_count": null,
   "metadata": {},
   "outputs": [],
   "source": [
    "def birthdayCakeCandles(arr):\n",
    "    arr.sort()\n",
    "    max_val = ar[-1]\n",
    "    max_candles = ar.count(max_val)\n",
    "\n",
    "    return max_candles\n",
    "\n",
    "# ar_count = int(input())\n",
    "# ar = list(map(int, input().rstrip().split()))\n",
    "ar = [18, 90, 90, 13, 90, 75, 90, 8, 90, 43]\n",
    "result = birthdayCakeCandles(ar)\n",
    "result"
   ]
  },
  {
   "cell_type": "markdown",
   "metadata": {},
   "source": [
    "Problem Solving - Diagonal Difference"
   ]
  },
  {
   "cell_type": "code",
   "execution_count": null,
   "metadata": {},
   "outputs": [],
   "source": [
    "def diagonalDifference(arr):\n",
    "    i = 0\n",
    "    q = -1\n",
    "    diag1 = []\n",
    "    diag2 = []\n",
    "\n",
    "    for num in arr:\n",
    "        diag1.append(arr[i][i])\n",
    "        diag2.append(arr[i][q])\n",
    "        \n",
    "        i += 1\n",
    "        q -= 1\n",
    "        \n",
    "    return abs(sum(diag1) - sum(diag2))\n",
    "\n",
    "n = int(input().strip())\n",
    "arr = []\n",
    "for _ in range(n):\n",
    "    arr.append(list(map(int, input().rstrip().split())))\n",
    "result = diagonalDifference(arr)\n",
    "result"
   ]
  },
  {
   "cell_type": "markdown",
   "metadata": {},
   "source": [
    "Problem Solving - Time Conversion"
   ]
  },
  {
   "cell_type": "code",
   "execution_count": null,
   "metadata": {},
   "outputs": [],
   "source": [
    "def timeConversion(s):\n",
    "    hr = s[:2]\n",
    "    mn = s[3:5]\n",
    "    sc = s[6:8]\n",
    "    \n",
    "    am_dict = {\"12\":\"00\",\n",
    "               \"01\":\"01\",\n",
    "               \"02\":\"02\",\n",
    "               \"03\":\"03\",\n",
    "               \"04\":\"04\",\n",
    "               \"05\":\"05\",\n",
    "               \"06\":\"06\",\n",
    "               \"07\":\"07\",\n",
    "               \"08\":\"08\",\n",
    "               \"09\":\"09\",\n",
    "               \"10\":\"10\",\n",
    "               \"11\":\"11\"}\n",
    "    \n",
    "    pm_dict = {\"12\":\"12\",\n",
    "               \"01\":\"13\",\n",
    "               \"02\":\"14\",\n",
    "               \"03\":\"15\",\n",
    "               \"04\":\"16\",\n",
    "               \"05\":\"17\",\n",
    "               \"06\":\"18\",\n",
    "               \"07\":\"19\",\n",
    "               \"08\":\"20\",\n",
    "               \"09\":\"21\",\n",
    "               \"10\":\"22\",\n",
    "               \"11\":\"23\"}\n",
    "    \n",
    "    if s.find(\"AM\") != -1:\n",
    "        hr = am_dict[hr]\n",
    "    elif s.find(\"PM\") != -1:\n",
    "        hr = pm_dict[hr]\n",
    "    \n",
    "    return(hr + \":\" + mn + \":\" + sc)\n",
    "\n",
    "s = input()\n",
    "\n",
    "result = timeConversion(s)\n",
    "result"
   ]
  },
  {
   "cell_type": "markdown",
   "metadata": {},
   "source": [
    "Problem Solving - Compare the Triplets"
   ]
  },
  {
   "cell_type": "code",
   "execution_count": null,
   "metadata": {},
   "outputs": [],
   "source": [
    "def compareTriplets(a, b):\n",
    "    a_score = 0\n",
    "    b_score = 0\n",
    "    i = 0\n",
    "\n",
    "    for num in a:\n",
    "        if a[i] > b[i]:\n",
    "            a_score += 1\n",
    "        elif a[i] < b[i]:\n",
    "            b_score += 1\n",
    "\n",
    "        i += 1\n",
    "        \n",
    "    return (a_score, b_score)"
   ]
  },
  {
   "cell_type": "code",
   "execution_count": null,
   "metadata": {},
   "outputs": [],
   "source": [
    "a = list(map(int, input().rstrip().split()))\n",
    "b = list(map(int, input().rstrip().split()))\n",
    "result = compareTriplets(a, b)\n",
    "result"
   ]
  },
  {
   "cell_type": "markdown",
   "metadata": {},
   "source": [
    "Problem Solving - The Hurdle Race"
   ]
  },
  {
   "cell_type": "code",
   "execution_count": null,
   "metadata": {},
   "outputs": [],
   "source": [
    "def hurdleRace(k, height):\n",
    "    tallest = max(height)\n",
    "    diff = tallest - k\n",
    "\n",
    "    if diff <= 0:\n",
    "        return 0\n",
    "    else:\n",
    "        return diff"
   ]
  },
  {
   "cell_type": "code",
   "execution_count": null,
   "metadata": {},
   "outputs": [],
   "source": [
    "nk = input().split()\n",
    "n = int(nk[0])\n",
    "k = int(nk[1])\n",
    "height = list(map(int, input().rstrip().split()))\n",
    "\n",
    "result = hurdleRace(k, height)\n",
    "result"
   ]
  },
  {
   "cell_type": "markdown",
   "metadata": {},
   "source": [
    "Problem Solving - Viral Advertising"
   ]
  },
  {
   "cell_type": "code",
   "execution_count": null,
   "metadata": {},
   "outputs": [],
   "source": [
    "import math\n",
    "\n",
    "def viralAdvertising(n):\n",
    "    people = 5\n",
    "    multiplier = 3\n",
    "    likes = 0\n",
    "    \n",
    "    for day in range(0, n):\n",
    "        a = math.floor(people/2)\n",
    "        people = a * multiplier\n",
    "        likes = likes + a\n",
    "        \n",
    "    return likes"
   ]
  },
  {
   "cell_type": "markdown",
   "metadata": {},
   "source": [
    "Problem Solving - Designer PDF Viewer"
   ]
  },
  {
   "cell_type": "code",
   "execution_count": null,
   "metadata": {},
   "outputs": [],
   "source": [
    "import string\n",
    "\n",
    "def designerPdfViewer(h, word):\n",
    "    alph_lst = [x for x in string.ascii_lowercase]\n",
    "    alph_dict = {alph_lst[i]: h[i] for i in range(len(alph_lst))} \n",
    "    mes_lst = []\n",
    "    \n",
    "    for letter in word.lower():\n",
    "        mes_lst.append(alph_dict[letter])\n",
    "    \n",
    "    area = max(mes_lst) * len(mes_lst)\n",
    "    return area"
   ]
  },
  {
   "cell_type": "code",
   "execution_count": null,
   "metadata": {},
   "outputs": [],
   "source": [
    "h = list(map(int, input().rstrip().split()))\n",
    "word = 'Test'\n",
    "result = designerPdfViewer(h, word)\n",
    "result"
   ]
  },
  {
   "cell_type": "code",
   "execution_count": null,
   "metadata": {},
   "outputs": [],
   "source": [
    "# Solution from HackerRank discussion, oneliner using ord()\n",
    "def designerPdfViewer(h, word):\n",
    "    return len(word) * max(h[ord(letter.lower())-97] for letter in word)"
   ]
  },
  {
   "cell_type": "code",
   "execution_count": null,
   "metadata": {},
   "outputs": [],
   "source": [
    "h = list(map(int, input().rstrip().split()))\n",
    "word = 'Test'\n",
    "result = designerPdfViewer(h, word)\n",
    "result"
   ]
  },
  {
   "cell_type": "markdown",
   "metadata": {},
   "source": [
    "Problem Solving - Utopian Tree"
   ]
  },
  {
   "cell_type": "code",
   "execution_count": null,
   "metadata": {},
   "outputs": [],
   "source": [
    "def utopianTree(n):\n",
    "    height = 0\n",
    "    \n",
    "    for period in range(0,n+1):\n",
    "        if period % 2 == 0:\n",
    "            height += 1\n",
    "        else:\n",
    "            height *= 2\n",
    "        \n",
    "    return height\n",
    "\n",
    "utopianTree(5)"
   ]
  },
  {
   "cell_type": "markdown",
   "metadata": {},
   "source": [
    "Problem Solving - Find Digits"
   ]
  },
  {
   "cell_type": "code",
   "execution_count": null,
   "metadata": {},
   "outputs": [],
   "source": [
    "def findDigits(n):\n",
    "    num_lst = [int(x) for x in str(n)]\n",
    "    count = 0\n",
    "    \n",
    "    for num in num_lst:\n",
    "        if num != 0 and n % num == 0:\n",
    "            count += 1\n",
    "            \n",
    "    return count\n",
    "\n",
    "findDigits(1012)"
   ]
  },
  {
   "cell_type": "code",
   "execution_count": null,
   "metadata": {},
   "outputs": [],
   "source": [
    "# Oneliner Attempt\n",
    "# [f(x) if condition else g(x) for x in sequence]\n",
    "def findDigits(n):\n",
    "    count = [print(x) for x in[int(x) for x in str(n)]]\n",
    "    return count"
   ]
  },
  {
   "cell_type": "code",
   "execution_count": null,
   "metadata": {},
   "outputs": [],
   "source": [
    "findDigits(1012)"
   ]
  },
  {
   "cell_type": "markdown",
   "metadata": {},
   "source": [
    "Problem Solving - Grading Students"
   ]
  },
  {
   "cell_type": "code",
   "execution_count": null,
   "metadata": {},
   "outputs": [],
   "source": [
    "def gradingStudents(grades):\n",
    "    base=5\n",
    "    grade_lst = []\n",
    "    \n",
    "    for grade in grades:\n",
    "        if grade < 38:\n",
    "            grade_lst.append(grade)\n",
    "        elif grade % 10 >= 3 and grade % 5 > 2:\n",
    "            grade_lst.append(base * round(grade/base))\n",
    "        else:\n",
    "            grade_lst.append(grade)\n",
    "            \n",
    "    return grade_lst"
   ]
  },
  {
   "cell_type": "code",
   "execution_count": null,
   "metadata": {},
   "outputs": [],
   "source": [
    "grades = [73, 67, 38, 33]\n",
    "gradingStudents(grades)"
   ]
  },
  {
   "cell_type": "code",
   "execution_count": null,
   "metadata": {},
   "outputs": [],
   "source": []
  }
 ],
 "metadata": {
  "kernelspec": {
   "display_name": "Python 3",
   "language": "python",
   "name": "python3"
  },
  "language_info": {
   "codemirror_mode": {
    "name": "ipython",
    "version": 3
   },
   "file_extension": ".py",
   "mimetype": "text/x-python",
   "name": "python",
   "nbconvert_exporter": "python",
   "pygments_lexer": "ipython3",
   "version": "3.7.3"
  }
 },
 "nbformat": 4,
 "nbformat_minor": 2
}
