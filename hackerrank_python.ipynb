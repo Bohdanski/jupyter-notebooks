{
 "cells": [
  {
   "cell_type": "markdown",
   "metadata": {},
   "source": [
    "Swap Case"
   ]
  },
  {
   "cell_type": "code",
   "execution_count": null,
   "metadata": {},
   "outputs": [],
   "source": [
    "def swap_case(s):\n",
    "    char_list = []\n",
    "    \n",
    "    for char in s:    \n",
    "        if char.islower() == True:\n",
    "            char_list.append(char.upper())\n",
    "        elif char.isupper() == True:\n",
    "            char_list.append(char.lower())\n",
    "        else:\n",
    "            char_list.append(char)\n",
    "            \n",
    "    return \"\".join(char_list)\n",
    "\n",
    "swap_case(\"Www.HackerRank.com\")"
   ]
  },
  {
   "cell_type": "code",
   "execution_count": null,
   "metadata": {},
   "outputs": [],
   "source": [
    "def swap_case(s):\n",
    "    return \"\".join([x.upper() if x.islower() else x.lower() for x in s])\n",
    "\n",
    "swap_case(\"Www.HackerRank.com\")"
   ]
  },
  {
   "cell_type": "markdown",
   "metadata": {},
   "source": [
    "Mutations"
   ]
  },
  {
   "cell_type": "code",
   "execution_count": null,
   "metadata": {},
   "outputs": [],
   "source": [
    "def mutate_string(string, position, character):\n",
    "    str_list = []\n",
    "    \n",
    "    for index,letter in enumerate(string):\n",
    "        if index != position:\n",
    "            str_list.append(letter)\n",
    "        elif index == position:\n",
    "            str_list.append(character)\n",
    "            \n",
    "    return \"\".join(str_list)\n",
    "\n",
    "mutate_string(\"Test\",1,\"o\")"
   ]
  },
  {
   "cell_type": "markdown",
   "metadata": {},
   "source": [
    "Print Function"
   ]
  },
  {
   "cell_type": "code",
   "execution_count": null,
   "metadata": {},
   "outputs": [],
   "source": [
    "n = 5\n",
    "str_list = []\n",
    "\n",
    "for i in range(1,n+1):\n",
    "    str_list.append(str(i))\n",
    "\n",
    "print(\"\".join(str_list))"
   ]
  },
  {
   "cell_type": "markdown",
   "metadata": {},
   "source": [
    "Find a string"
   ]
  },
  {
   "cell_type": "code",
   "execution_count": 27,
   "metadata": {},
   "outputs": [],
   "source": [
    "def count_substring(string, sub_string):\n",
    "    count = 0\n",
    "    low = 0\n",
    "    high = len(sub_string)\n",
    "\n",
    "    for _ in range(low, len(string)-len(sub_string)+1):\n",
    "        chunk = string[low:high]\n",
    "        if sub_string == chunk:\n",
    "            count += 1\n",
    "        low += 1\n",
    "        high += 1\n",
    "\n",
    "    return count"
   ]
  },
  {
   "cell_type": "code",
   "execution_count": 28,
   "metadata": {},
   "outputs": [
    {
     "name": "stdout",
     "output_type": "stream",
     "text": [
      "2\n"
     ]
    }
   ],
   "source": [
    "s = 'ABCDCDC'\n",
    "sub = 'CDC'\n",
    "\n",
    "count = count_substring(s,sub)\n",
    "print(count)"
   ]
  },
  {
   "cell_type": "markdown",
   "metadata": {},
   "source": [
    "List Comprehensions"
   ]
  },
  {
   "cell_type": "code",
   "execution_count": 10,
   "metadata": {},
   "outputs": [
    {
     "data": {
      "text/plain": [
       "[('0', '1', '1'), ('0', '1', '1'), ('0', '1', '1')]"
      ]
     },
     "execution_count": 10,
     "metadata": {},
     "output_type": "execute_result"
    }
   ],
   "source": [
    "x=1\n",
    "y=1\n",
    "z=1\n",
    "\n",
    "dim=[0]*3\n",
    "\n",
    "n=2\n",
    "[x for x in [(str(x),str(y),str(z)) for x in dim]]"
   ]
  },
  {
   "cell_type": "code",
   "execution_count": 20,
   "metadata": {},
   "outputs": [
    {
     "name": "stdout",
     "output_type": "stream",
     "text": [
      "1\n",
      "1\n",
      "7\n",
      "[[0, 0], [0, 1], [1, 0], [1, 1]]\n"
     ]
    }
   ],
   "source": [
    "x = int (input()) \n",
    "y = int (input()) \n",
    "n = int (input()) \n",
    "\n",
    "print([[x, j] for x in range(x + 1) for j in range(y + 1) if ((x + j ) != n)])"
   ]
  },
  {
   "cell_type": "markdown",
   "metadata": {},
   "source": [
    "Finding the percentage"
   ]
  },
  {
   "cell_type": "code",
   "execution_count": 4,
   "metadata": {},
   "outputs": [
    {
     "data": {
      "text/plain": [
       "'0102'"
      ]
     },
     "execution_count": 4,
     "metadata": {},
     "output_type": "execute_result"
    }
   ],
   "source": [
    "from statistics import mean \n",
    "\n",
    "n = int(input())\n",
    "student_marks = {}\n",
    "for _ in range(n):\n",
    "    name, *line = input().split()\n",
    "    scores = list(map(float, line))\n",
    "    student_marks[name] = scores\n",
    "query_name = input()\n",
    "print(\"{:.2f}\".format(round(mean(student_marks[query_name]),2)))"
   ]
  },
  {
   "cell_type": "markdown",
   "metadata": {},
   "source": [
    "Compress the String!"
   ]
  },
  {
   "cell_type": "code",
   "execution_count": null,
   "metadata": {},
   "outputs": [],
   "source": [
    "s = '1222311'\n",
    "s_set = set([x for x in s])\n",
    "s_count = [s.count(x) for x in s_set]\n",
    "result = map(lambda x, y:(x, y), s_count, s_set)\n",
    "for pair in result:\n",
    "    print(tuple(pair))"
   ]
  },
  {
   "cell_type": "markdown",
   "metadata": {},
   "source": [
    "Tuples"
   ]
  },
  {
   "cell_type": "code",
   "execution_count": null,
   "metadata": {},
   "outputs": [],
   "source": [
    "n = int(input())\n",
    "integer_list = map(int, input().split())\n",
    "print(hash(tuple(integer_list)))"
   ]
  },
  {
   "cell_type": "markdown",
   "metadata": {},
   "source": [
    "Nested Lists"
   ]
  },
  {
   "cell_type": "code",
   "execution_count": 130,
   "metadata": {},
   "outputs": [
    {
     "name": "stdout",
     "output_type": "stream",
     "text": [
      "Harry\n",
      "37.21\n",
      "Berry\n",
      "37.21\n",
      "Tina\n",
      "37.2\n",
      "Akriti\n",
      "41\n",
      "Harsh\n",
      "39\n"
     ]
    }
   ],
   "source": [
    "name = [\"Harry\", \"Berry\", \"Tina\", \"Akriti\", \"Harsh\"]\n",
    "score = [37.21, 37.21, 37.2, 41, 39]\n",
    "# [[x, y] for x, y in combo[x][y]]\n",
    "\n",
    "combo = []\n",
    "for x, y in zip(name, score):\n",
    "    combo.append([x, y])\n",
    "\n",
    "for i in range(len(combo)):\n",
    "    for j in range(len(combo[i])):\n",
    "        print(combo[i][j])"
   ]
  },
  {
   "cell_type": "code",
   "execution_count": 139,
   "metadata": {},
   "outputs": [
    {
     "data": {
      "text/plain": [
       "['Harry', 37.21]"
      ]
     },
     "execution_count": 139,
     "metadata": {},
     "output_type": "execute_result"
    }
   ],
   "source": [
    "[x for x in combo[0]]"
   ]
  },
  {
   "cell_type": "markdown",
   "metadata": {},
   "source": [
    "Text Wrap"
   ]
  },
  {
   "cell_type": "code",
   "execution_count": 27,
   "metadata": {},
   "outputs": [],
   "source": [
    "import textwrap\n",
    "\n",
    "def wrap(string, max_width):\n",
    "    lst = [x for x in textwrap.wrap(string, max_width)]\n",
    "    lst.pop()\n",
    "    return print(lst)\n",
    "#     return [print(x) for x in[x for x in textwrap.wrap(string, max_width)]]"
   ]
  },
  {
   "cell_type": "code",
   "execution_count": 28,
   "metadata": {},
   "outputs": [
    {
     "name": "stdout",
     "output_type": "stream",
     "text": [
      "['ABCD', 'EFGH', 'IJKL', 'IMNO', 'QRST', 'UVWX']\n",
      "None\n"
     ]
    }
   ],
   "source": [
    "s = 'ABCDEFGHIJKLIMNOQRSTUVWXYZ'\n",
    "w = 4\n",
    "\n",
    "result = wrap(s, w)\n",
    "print(result)"
   ]
  },
  {
   "cell_type": "code",
   "execution_count": 190,
   "metadata": {},
   "outputs": [
    {
     "name": "stdout",
     "output_type": "stream",
     "text": [
      "ABCD\n",
      "EFGH\n",
      "IJKL\n",
      "IMNO\n",
      "QRST\n",
      "UVWX\n",
      "YZ\n"
     ]
    }
   ],
   "source": [
    "import math\n",
    "\n",
    "s = 'ABCDEFGHIJKLIMNOQRSTUVWXYZ'\n",
    "w = 4\n",
    "\n",
    "low = 0\n",
    "high = math.floor(len(s)/w)\n",
    "\n",
    "bottom = 0\n",
    "top = w\n",
    "\n",
    "for _ in range(low, high):\n",
    "    print(s[bottom:top])\n",
    "    bottom += w\n",
    "    top += w\n",
    "else:\n",
    "    print(s[-(len(s)%w):])"
   ]
  },
  {
   "cell_type": "markdown",
   "metadata": {},
   "source": [
    "Capitalize!"
   ]
  },
  {
   "cell_type": "code",
   "execution_count": 49,
   "metadata": {},
   "outputs": [],
   "source": [
    "def solve(s):\n",
    "    lst = s.split(\" \")\n",
    "    title_lst = []\n",
    "    \n",
    "    for word in lst:\n",
    "        if word == \"\":\n",
    "            title_lst.append(\"\")\n",
    "        elif word[0].isdigit() == False:\n",
    "            title_lst.append(word.title())\n",
    "        else:\n",
    "            title_lst.append(word)\n",
    "\n",
    "    return \" \".join(title_lst)"
   ]
  },
  {
   "cell_type": "code",
   "execution_count": 80,
   "metadata": {},
   "outputs": [],
   "source": [
    "# Oneliner attempt\n",
    "def solve(s):\n",
    "    return \" \".join([\"\" if x == \"\" else x.title() if x[0].isdigit() == False else x for x in s.split(\" \")])"
   ]
  },
  {
   "cell_type": "code",
   "execution_count": 87,
   "metadata": {},
   "outputs": [],
   "source": [
    "# HackerRank top answer\n",
    "for x in s[:].split():\n",
    "    s = s.replace(x, x.capitalize())"
   ]
  },
  {
   "cell_type": "code",
   "execution_count": 88,
   "metadata": {},
   "outputs": [
    {
     "data": {
      "text/plain": [
       "'1 W 2 R 3g'"
      ]
     },
     "execution_count": 88,
     "metadata": {},
     "output_type": "execute_result"
    }
   ],
   "source": [
    "s = '1 w 2 r 3g'\n",
    "# s = \"hello   world  lol\"\n",
    "solve(s)"
   ]
  },
  {
   "cell_type": "markdown",
   "metadata": {},
   "source": [
    "Find the Runner-Up Score!"
   ]
  },
  {
   "cell_type": "code",
   "execution_count": 103,
   "metadata": {
    "scrolled": true
   },
   "outputs": [
    {
     "data": {
      "text/plain": [
       "5"
      ]
     },
     "execution_count": 103,
     "metadata": {},
     "output_type": "execute_result"
    }
   ],
   "source": [
    "arr = [2, 3, 6, 6, 5]\n",
    "arr.sort()\n",
    "amt = arr.count(max(arr))\n",
    "for times in range(0, amt):\n",
    "    arr.remove(max(arr))\n",
    "max(arr)"
   ]
  },
  {
   "cell_type": "markdown",
   "metadata": {},
   "source": [
    "Loops"
   ]
  },
  {
   "cell_type": "code",
   "execution_count": 128,
   "metadata": {},
   "outputs": [
    {
     "name": "stdout",
     "output_type": "stream",
     "text": [
      "0\n",
      "1\n",
      "4\n",
      "9\n",
      "16\n"
     ]
    }
   ],
   "source": [
    "for i in range(0, 5):\n",
    "    print(i**2)"
   ]
  },
  {
   "cell_type": "markdown",
   "metadata": {},
   "source": [
    "String Validators"
   ]
  },
  {
   "cell_type": "code",
   "execution_count": 134,
   "metadata": {},
   "outputs": [
    {
     "data": {
      "text/plain": [
       "True"
      ]
     },
     "execution_count": 134,
     "metadata": {},
     "output_type": "execute_result"
    }
   ],
   "source": [
    "s='qA2'\n",
    "True in [x.isdigit() for x in s]"
   ]
  },
  {
   "cell_type": "markdown",
   "metadata": {},
   "source": [
    "itertools.product()"
   ]
  },
  {
   "cell_type": "code",
   "execution_count": 135,
   "metadata": {},
   "outputs": [],
   "source": [
    "from itertools import product"
   ]
  },
  {
   "cell_type": "code",
   "execution_count": 153,
   "metadata": {},
   "outputs": [
    {
     "name": "stdout",
     "output_type": "stream",
     "text": [
      "1 2\n",
      "3 4\n",
      "(1, 3) (1, 4) (2, 3) (2, 4) "
     ]
    },
    {
     "data": {
      "text/plain": [
       "[None, None, None, None]"
      ]
     },
     "execution_count": 153,
     "metadata": {},
     "output_type": "execute_result"
    }
   ],
   "source": [
    "a = map(int, input().split())\n",
    "b = map(int, input().split())\n",
    "\n",
    "[print(x, end = \" \") for x in list(product(list(a), list(b)))]"
   ]
  },
  {
   "cell_type": "markdown",
   "metadata": {},
   "source": [
    "Introduction to Sets"
   ]
  },
  {
   "cell_type": "code",
   "execution_count": 1,
   "metadata": {},
   "outputs": [],
   "source": [
    "def average(array):\n",
    "    my_set = set(array)\n",
    "\n",
    "    return sum(my_set)/len(my_set)"
   ]
  },
  {
   "cell_type": "code",
   "execution_count": null,
   "metadata": {},
   "outputs": [],
   "source": []
  }
 ],
 "metadata": {
  "kernelspec": {
   "display_name": "Python 3",
   "language": "python",
   "name": "python3"
  },
  "language_info": {
   "codemirror_mode": {
    "name": "ipython",
    "version": 3
   },
   "file_extension": ".py",
   "mimetype": "text/x-python",
   "name": "python",
   "nbconvert_exporter": "python",
   "pygments_lexer": "ipython3",
   "version": "3.7.3"
  }
 },
 "nbformat": 4,
 "nbformat_minor": 2
}
