{
 "cells": [
  {
   "cell_type": "code",
   "execution_count": 1,
   "metadata": {},
   "outputs": [],
   "source": [
    "import random\n",
    "\n",
    "suits = ('Hearts', 'Diamonds', 'Spades', 'Clubs')\n",
    "ranks = ('Two', 'Three', 'Four', 'Five', 'Six', 'Seven', 'Eight', 'Nine', 'Ten', 'Jack', 'Queen', 'King', 'Ace')\n",
    "values = {'Two':2, 'Three':3, 'Four':4, 'Five':5, 'Six':6, 'Seven':7, 'Eight':8, 'Nine':9, 'Ten':10, 'Jack':10,\n",
    "         'Queen':10, 'King':10, 'Ace':11}\n",
    "\n",
    "playing = True"
   ]
  },
  {
   "cell_type": "code",
   "execution_count": 2,
   "metadata": {},
   "outputs": [],
   "source": [
    "class Card():\n",
    "    \n",
    "    def __init__(self,card_suit,card_rank):\n",
    "        #self.card_suit = random.choice(card_suit)\n",
    "        #self.card_rank = random.choice(card_rank)\n",
    "        self.card_suit = card_suit\n",
    "        self.card_rank = card_rank\n",
    "    \n",
    "    def __str__(self):\n",
    "        #return f\"{random.choice(self.card_rank)} of {random.choice(self.card_suit)}\"\n",
    "        return f\"{self.card_rank} of {self.card_suit}\""
   ]
  },
  {
   "cell_type": "code",
   "execution_count": 3,
   "metadata": {},
   "outputs": [],
   "source": [
    "test_card = Card(suits,ranks)"
   ]
  },
  {
   "cell_type": "code",
   "execution_count": 4,
   "metadata": {},
   "outputs": [
    {
     "name": "stdout",
     "output_type": "stream",
     "text": [
      "('Two', 'Three', 'Four', 'Five', 'Six', 'Seven', 'Eight', 'Nine', 'Ten', 'Jack', 'Queen', 'King', 'Ace') of ('Hearts', 'Diamonds', 'Spades', 'Clubs')\n"
     ]
    }
   ],
   "source": [
    "print(test_card)"
   ]
  },
  {
   "cell_type": "code",
   "execution_count": 5,
   "metadata": {},
   "outputs": [],
   "source": [
    "class Deck():\n",
    "    \n",
    "    def __init__(self):\n",
    "        # start with an empty list\n",
    "        self.deck = []\n",
    "        for suit in suits:\n",
    "            for rank in ranks:\n",
    "                # feed in the iteration variable from the loop into the Card class paramater.\n",
    "                self.deck.append(Card(suit,rank))\n",
    "    \n",
    "    def __str__(self):\n",
    "        deck_comp = ''\n",
    "        for card in self.deck:\n",
    "            deck_comp += '\\n' + card.__str__()\n",
    "        return \"The deck has: \" + deck_comp\n",
    "        #return str(self.deck)\n",
    "\n",
    "    def shuffle(self):\n",
    "        random.shuffle(self.deck)\n",
    "        \n",
    "    def deal(self):\n",
    "        #return print(random.choice(self.deck[0:51]))\n",
    "        return self.deck.pop()"
   ]
  },
  {
   "cell_type": "code",
   "execution_count": 41,
   "metadata": {},
   "outputs": [],
   "source": [
    "class Hand():\n",
    "    def __init__(self):\n",
    "        self.cards = []  # start with an empty list as we did in the Deck class\n",
    "        self.value = 0   # start with zero value\n",
    "        self.aces = 0    # add an attribute to keep track of aces\n",
    "        \n",
    "    def add_card(self,card):\n",
    "        # taking in an instance of Card() class as card, appending it to cards[].\n",
    "        # rank is an attribute of Card() and therefore card also has this as an attribute.\n",
    "        # take the rank attribute, pass it in as a dictionary key, the assign that value to self.value\n",
    "        self.cards.append(card)\n",
    "        self.value += values[card.card_rank]\n",
    "        \n",
    "    def adjust_for_ace(self,card):\n",
    "        if card.card_rank == 'Ace':\n",
    "            print (\"This is an ace\")\n",
    "        else:\n",
    "            print (\"Not an ace\")"
   ]
  },
  {
   "cell_type": "code",
   "execution_count": 47,
   "metadata": {},
   "outputs": [
    {
     "name": "stdout",
     "output_type": "stream",
     "text": [
      "Ace of Clubs\n",
      "11\n",
      "This is an ace\n"
     ]
    }
   ],
   "source": [
    "# create a deck\n",
    "test_deck = Deck()\n",
    "# shuffle the deck created\n",
    "test_deck.shuffle()\n",
    "\n",
    "# create a hand, (this can also be looked at as player)\n",
    "test_hand = Hand()\n",
    "# create a card that is pulled\n",
    "pulled_card = test_deck.deal()\n",
    "print(pulled_card)\n",
    "\n",
    "# add the pulled card to the players hand\n",
    "test_hand.add_card(pulled_card)\n",
    "print(test_hand.value)\n",
    "\n",
    "test_hand.adjust_for_ace(pulled_card)"
   ]
  },
  {
   "cell_type": "code",
   "execution_count": 38,
   "metadata": {},
   "outputs": [
    {
     "data": {
      "text/plain": [
       "10"
      ]
     },
     "execution_count": 38,
     "metadata": {},
     "output_type": "execute_result"
    }
   ],
   "source": [
    "# create a deck\n",
    "test_deck = Deck()\n",
    "# shuffle the deck created\n",
    "test_deck.shuffle()\n",
    "# create a hand, (this can also be looked at as player)\n",
    "test_hand = Hand()\n",
    "\n",
    "# if you run this line of code on it's own in a different cell, it will keep adding to the value.\n",
    "test_hand.add_card(test_deck.deal())\n",
    "\n",
    "test_hand.value"
   ]
  },
  {
   "cell_type": "code",
   "execution_count": null,
   "metadata": {},
   "outputs": [],
   "source": []
  }
 ],
 "metadata": {
  "kernelspec": {
   "display_name": "Python 3",
   "language": "python",
   "name": "python3"
  },
  "language_info": {
   "codemirror_mode": {
    "name": "ipython",
    "version": 3
   },
   "file_extension": ".py",
   "mimetype": "text/x-python",
   "name": "python",
   "nbconvert_exporter": "python",
   "pygments_lexer": "ipython3",
   "version": "3.7.3"
  }
 },
 "nbformat": 4,
 "nbformat_minor": 2
}
