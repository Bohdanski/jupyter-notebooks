{
 "cells": [
  {
   "cell_type": "markdown",
   "metadata": {},
   "source": [
    "Fizz Buzz - Write a program that prints the numbers from 1 to 100. But for multiples of three print “Fizz” instead of the number and for the multiples of five print “Buzz”. For numbers which are multiples of both three and five print “FizzBuzz”."
   ]
  },
  {
   "cell_type": "code",
   "execution_count": null,
   "metadata": {},
   "outputs": [],
   "source": [
    "def fizz_buzz(low,high):\n",
    "    for num in range(low, high+1) :\n",
    "        if num%5 == 0 and num%3 == 0:\n",
    "            print('FizzBuzz')\n",
    "        elif num%5 == 0:\n",
    "            print('Buzz')\n",
    "        elif num%3 == 0:\n",
    "            print('Fizz')\n",
    "        else:\n",
    "            print(num)"
   ]
  },
  {
   "cell_type": "code",
   "execution_count": null,
   "metadata": {
    "scrolled": true
   },
   "outputs": [],
   "source": [
    "fizz_buzz(1,100)"
   ]
  },
  {
   "cell_type": "markdown",
   "metadata": {},
   "source": [
    "Reverse a String - Enter a string and the program will reverse it and print it out."
   ]
  },
  {
   "cell_type": "code",
   "execution_count": null,
   "metadata": {},
   "outputs": [],
   "source": [
    "def str_reverse(string):\n",
    "    return string[::-1]"
   ]
  },
  {
   "cell_type": "code",
   "execution_count": null,
   "metadata": {},
   "outputs": [],
   "source": [
    "my_string = \"I will reverse this string!\"\n",
    "\n",
    "str_reverse(my_string)"
   ]
  },
  {
   "cell_type": "markdown",
   "metadata": {},
   "source": [
    "Collatz Conjecture - Start with a number n > 1. Find the number of steps it takes to reach one using the following process: If n* is even, divide it by 2. If *n is odd, multiply it by 3 and add 1."
   ]
  },
  {
   "cell_type": "code",
   "execution_count": 60,
   "metadata": {},
   "outputs": [],
   "source": [
    "def col_con(num):\n",
    "    n = num\n",
    "    count = 0\n",
    "    \n",
    "    try:\n",
    "        if n < 1:\n",
    "            print (\"Please enter a number greater than 1!\")\n",
    "        else:\n",
    "            while n > 1:\n",
    "\n",
    "                while n%2 == 0:\n",
    "                    n = n/2\n",
    "                    count = count + 1\n",
    "                    print(n)\n",
    "\n",
    "                while n%2 != 0 and n > 1:\n",
    "                    n = (n*3)+1\n",
    "                    count = count + 1\n",
    "                    print(n)\n",
    "\n",
    "            print(f\"It took {count} steps to reach one!\")\n",
    "        \n",
    "    except:\n",
    "        print(\"An error occured!\")"
   ]
  },
  {
   "cell_type": "code",
   "execution_count": 61,
   "metadata": {},
   "outputs": [
    {
     "name": "stdout",
     "output_type": "stream",
     "text": [
      "2.0\n",
      "1.0\n",
      "It took 2 steps to reach one!\n"
     ]
    }
   ],
   "source": [
    "col_con(4)"
   ]
  },
  {
   "cell_type": "markdown",
   "metadata": {},
   "source": [
    "Sorting - Implement two types of sorting algorithms: Merge sort and bubble sort."
   ]
  },
  {
   "cell_type": "code",
   "execution_count": 33,
   "metadata": {},
   "outputs": [],
   "source": [
    "def bubble_sort(arr):    \n",
    "    i1 = 0\n",
    "    i2 = 1\n",
    "    \n",
    "    p1 = arr[i1]\n",
    "    p2 = arr[i2]\n",
    "    \n",
    "    #while arr[1::2] > arr [::2]\n",
    "    \n",
    "    while i1 < 10:\n",
    "        i1 = arr[i1] + 1\n",
    "        i2 = arr[i2] + 1\n",
    "        \n",
    "        print(i1,i2)"
   ]
  },
  {
   "cell_type": "code",
   "execution_count": 34,
   "metadata": {},
   "outputs": [
    {
     "name": "stdout",
     "output_type": "stream",
     "text": [
      "10 5\n"
     ]
    }
   ],
   "source": [
    "my_list = [9,4,6,2,5,7,1,3,8]\n",
    "    \n",
    "bubble_sort(my_list)"
   ]
  },
  {
   "cell_type": "markdown",
   "metadata": {},
   "source": [
    "Product Inventory Project - Create an application which manages an inventory of products. Create a product class which has a price, id, and quantity on hand. Then create an inventory class which keeps track of various products and can sum up the inventory value."
   ]
  },
  {
   "cell_type": "code",
   "execution_count": 21,
   "metadata": {},
   "outputs": [],
   "source": [
    "class Product():\n",
    "    \n",
    "    def __init__(self,price,upc,quantity):\n",
    "        self.price = price\n",
    "        self.upc = upc\n",
    "        self.quantity = quantity"
   ]
  },
  {
   "cell_type": "code",
   "execution_count": 22,
   "metadata": {},
   "outputs": [],
   "source": [
    "banana = Product(1,123,10)"
   ]
  },
  {
   "cell_type": "code",
   "execution_count": null,
   "metadata": {},
   "outputs": [],
   "source": []
  }
 ],
 "metadata": {
  "kernelspec": {
   "display_name": "Python 3",
   "language": "python",
   "name": "python3"
  },
  "language_info": {
   "codemirror_mode": {
    "name": "ipython",
    "version": 3
   },
   "file_extension": ".py",
   "mimetype": "text/x-python",
   "name": "python",
   "nbconvert_exporter": "python",
   "pygments_lexer": "ipython3",
   "version": "3.7.3"
  }
 },
 "nbformat": 4,
 "nbformat_minor": 2
}
