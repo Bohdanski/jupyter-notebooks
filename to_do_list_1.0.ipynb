{
 "cells": [
  {
   "cell_type": "code",
   "execution_count": 1,
   "metadata": {},
   "outputs": [],
   "source": [
    "import os\n",
    "from IPython.display import clear_output"
   ]
  },
  {
   "cell_type": "code",
   "execution_count": 2,
   "metadata": {},
   "outputs": [],
   "source": [
    "class Task():\n",
    "    \n",
    "    def __init__(self,description,status):\n",
    "        self.description = description\n",
    "        self.status = status\n",
    "        \n",
    "    def __str__(self):\n",
    "        return f\"{self.description} - Status: {self.status}\""
   ]
  },
  {
   "cell_type": "code",
   "execution_count": 3,
   "metadata": {},
   "outputs": [],
   "source": [
    "class Todo_list():\n",
    "    \n",
    "    def __init__(self):\n",
    "        self.task_list = []\n",
    "\n",
    "    def add_task(self,task):\n",
    "        self.task_list.append(task)\n",
    "        print(f\"'{task.description}' successfully created.\")\n",
    "        \n",
    "    def remove_task(self,index):\n",
    "        '''\n",
    "        Pop The last object out of task_list and assign it to a variable.\n",
    "        It is then possible to call the task's description attribute inside\n",
    "        a string literal.\n",
    "        '''\n",
    "        rem_task = self.task_list.pop(index)\n",
    "        print(f\"'{rem_task.description}' successfully deleted\")\n",
    "            \n",
    "    def show_list(self):\n",
    "        #for index, task in enumerate(self.task_list):\n",
    "            #print(index, task)\n",
    "        if os.path.exists(\"list.txt\"):  \n",
    "            self.in_file = open(\"list.txt\", \"r+\")\n",
    "            \n",
    "            with self.in_file as f:\n",
    "                self.line = f.readline()\n",
    "                self.cnt = 0\n",
    "                while self.line:\n",
    "                    print(f\"{self.cnt}) {self.line.strip()}\")\n",
    "                    self.line = f.readline()\n",
    "                    self.cnt += 1\n",
    "        else:\n",
    "            print(\"Your to-do list is empty!\")\n",
    "                \n",
    "    def save_list(self):            \n",
    "        self.out_file = open(\"list.txt\", \"w+\")\n",
    "        \n",
    "        with self.out_file as f:\n",
    "            for task in self.task_list:\n",
    "                f.write(str(task)+\"\\n\")\n",
    "            "
   ]
  },
  {
   "cell_type": "code",
   "execution_count": 4,
   "metadata": {},
   "outputs": [],
   "source": [
    "def create_task(list_inst):\n",
    "    \n",
    "    task = ''\n",
    "    # Can be assumed if adding new thing status is incomplete\n",
    "    status = False\n",
    "    \n",
    "    while task == '':\n",
    "        task = input(\"What would you like to add to your list: \")\n",
    "    \n",
    "    new_task = Task(task, status)\n",
    "    list_inst.add_task(new_task)\n",
    "    list_inst.save_list()\n",
    "    #print(f\"'{new_task.description}' successfully created.\")"
   ]
  },
  {
   "cell_type": "code",
   "execution_count": 5,
   "metadata": {},
   "outputs": [],
   "source": [
    "def delete_task(list_inst):\n",
    "    \n",
    "    index = -1\n",
    "    \n",
    "    while index == -1:\n",
    "        list_inst.show_list()\n",
    "        try:\n",
    "            index = int(input(\"Please specify the task index to delete it from the list: \"))\n",
    "        except:\n",
    "            print(\"Please enter an integer value for the index.\")\n",
    "    try: \n",
    "        list_inst.remove_task(index)\n",
    "    except:\n",
    "        print('Please enter an existing index value')"
   ]
  },
  {
   "cell_type": "code",
   "execution_count": 6,
   "metadata": {},
   "outputs": [],
   "source": [
    "def exit():\n",
    "    \n",
    "    exit = ''\n",
    "    \n",
    "    while exit != 'y' and exit != 'n':\n",
    "        exit = input(\"Would you like to exit the program?(Y/N): \").lower()\n",
    "    \n",
    "        if exit == 'y':\n",
    "            return True\n",
    "            break\n",
    "        else:\n",
    "            return False\n",
    "            break"
   ]
  },
  {
   "cell_type": "code",
   "execution_count": 7,
   "metadata": {},
   "outputs": [],
   "source": [
    "def main_menu():\n",
    "    #clear_output()\n",
    "    print('╔═══════════════════╗')\n",
    "    print('║     MAIN MENU     ║')\n",
    "    print('╠═══════════════════╣')\n",
    "    print('║   CREATE TASK: C  ║')\n",
    "    print('║   DELETE TASK: D  ║')\n",
    "    print('║   SHOW LIST: S    ║')\n",
    "    print('║   EXIT: E         ║')\n",
    "    print('╚═══════════════════╝')"
   ]
  },
  {
   "cell_type": "code",
   "execution_count": 8,
   "metadata": {},
   "outputs": [],
   "source": [
    "def navigate_menu(list_inst):\n",
    "\n",
    "    # Add menu colors perhaps?\n",
    "    \n",
    "    argument = ''\n",
    "    options = ['c','d','s','e']\n",
    "    \n",
    "    while argument not in options:\n",
    "        argument = input(\"Please select an option from the main menu: \").lower()\n",
    "        \n",
    "    if argument == 'c':\n",
    "        create_task(list_inst)\n",
    "    elif argument == 'd':\n",
    "        delete_task(list_inst)\n",
    "    elif argument == 's':\n",
    "        list_inst.show_list()\n",
    "    elif argument == 'e':\n",
    "        return exit()"
   ]
  },
  {
   "cell_type": "code",
   "execution_count": 9,
   "metadata": {},
   "outputs": [],
   "source": [
    "my_todo_list = Todo_list()"
   ]
  },
  {
   "cell_type": "code",
   "execution_count": 10,
   "metadata": {},
   "outputs": [
    {
     "name": "stdout",
     "output_type": "stream",
     "text": [
      "╔═══════════════════╗\n",
      "║     MAIN MENU     ║\n",
      "╠═══════════════════╣\n",
      "║   CREATE TASK: C  ║\n",
      "║   DELETE TASK: D  ║\n",
      "║   SHOW LIST: S    ║\n",
      "║   EXIT: E         ║\n",
      "╚═══════════════════╝\n",
      "Please select an option from the main menu: c\n",
      "What would you like to add to your list: task 1\n",
      "'task 1' successfully created.\n",
      "Please select an option from the main menu: s\n",
      "0) task 1 - Status: False\n",
      "Please select an option from the main menu: c\n",
      "What would you like to add to your list: task 2\n",
      "'task 2' successfully created.\n",
      "Please select an option from the main menu: s\n",
      "0) task 1 - Status: False\n",
      "1) task 2 - Status: False\n",
      "2) task 1 - Status: False\n",
      "3) \n",
      "Please select an option from the main menu: e\n",
      "Would you like to exit the program?(Y/N): y\n"
     ]
    }
   ],
   "source": [
    "main_menu()\n",
    "\n",
    "#out_file = open(\"list.txt\", \"a+\")\n",
    "#in_file = open(\"list.txt\", \"r+\")\n",
    "\n",
    "while True:\n",
    "\n",
    "    if navigate_menu(my_todo_list) == True:\n",
    "        #out_file.close()\n",
    "        #in_file.close()\n",
    "        break"
   ]
  },
  {
   "cell_type": "code",
   "execution_count": 11,
   "metadata": {},
   "outputs": [
    {
     "name": "stdout",
     "output_type": "stream",
     "text": [
      "Task 1) task 1 - Status: False\n",
      "Task 2) task 2 - Status: False\n",
      "Task 3) task 1 - Status: False\n",
      "Task 4) \n"
     ]
    }
   ],
   "source": [
    "in_file = open(\"list.txt\", \"r+\")\n",
    "#line = in_file.readlines()\n",
    "with in_file as fp:\n",
    "    line = fp.readline()\n",
    "    cnt = 1\n",
    "    while line:\n",
    "        print(\"Task {}) {}\".format(cnt, line.strip()))\n",
    "        line = fp.readline()\n",
    "        #out_file.write(line.strip()+\"\\n\")\n",
    "        cnt += 1"
   ]
  },
  {
   "cell_type": "code",
   "execution_count": 12,
   "metadata": {},
   "outputs": [
    {
     "name": "stdout",
     "output_type": "stream",
     "text": [
      "task 1 - Status: False\n",
      "\n",
      "task 2 - Status: False\n",
      "\n",
      "task 1 - Status: False\n",
      "\n",
      "\n",
      "\n"
     ]
    }
   ],
   "source": [
    "in_file = open(\"list.txt\", \"r+\")\n",
    "\n",
    "with in_file as f:\n",
    "    line = f.readline()\n",
    "    while line:\n",
    "        print(line)\n",
    "        line = f.readline()"
   ]
  },
  {
   "cell_type": "code",
   "execution_count": 13,
   "metadata": {},
   "outputs": [
    {
     "name": "stdout",
     "output_type": "stream",
     "text": [
      "task 1 - Status: False\n",
      "\n",
      "task 2 - Status: False\n",
      "\n",
      "task 1 - Status: False\n",
      "\n",
      "\n",
      "\n"
     ]
    }
   ],
   "source": [
    "in_file = open(\"list.txt\", \"r+\")\n",
    "\n",
    "for line in in_file:\n",
    "    print(line)\n",
    "in_file.close()"
   ]
  },
  {
   "cell_type": "code",
   "execution_count": 14,
   "metadata": {},
   "outputs": [],
   "source": [
    "# out_file = open(\"list.txt\", \"a+\")\n",
    "# mylist=['a','b','c']\n",
    "\n",
    "# with out_file as f:\n",
    "#     for x in mylist:\n",
    "#         f.write(x+'\\n')"
   ]
  },
  {
   "cell_type": "code",
   "execution_count": 21,
   "metadata": {},
   "outputs": [
    {
     "data": {
      "text/plain": [
       "['test1 - Status: False', 'test2 - Status: False', 'test3 - Status: False']"
      ]
     },
     "execution_count": 21,
     "metadata": {},
     "output_type": "execute_result"
    }
   ],
   "source": [
    "in_file = open(\"list.txt\", \"r+\")\n",
    "newlist = []\n",
    "\n",
    "with in_file as f:\n",
    "    for line in f:\n",
    "        newlist.append(line.replace(\"\\n\", \"\"))\n",
    "        #print(line)\n",
    "newlist"
   ]
  },
  {
   "cell_type": "code",
   "execution_count": 17,
   "metadata": {},
   "outputs": [
    {
     "data": {
      "text/plain": [
       "'test1 - Status: False\\n'"
      ]
     },
     "execution_count": 17,
     "metadata": {},
     "output_type": "execute_result"
    }
   ],
   "source": [
    "in_file = open(\"list.txt\", \"r+\")\n",
    "in_file.readline()"
   ]
  },
  {
   "cell_type": "code",
   "execution_count": 25,
   "metadata": {},
   "outputs": [
    {
     "data": {
      "text/plain": [
       "2"
      ]
     },
     "execution_count": 25,
     "metadata": {},
     "output_type": "execute_result"
    }
   ],
   "source": [
    "mylist=['a','b','c']\n",
    "len(mylist) - 1"
   ]
  },
  {
   "cell_type": "code",
   "execution_count": null,
   "metadata": {},
   "outputs": [],
   "source": []
  }
 ],
 "metadata": {
  "kernelspec": {
   "display_name": "Python 3",
   "language": "python",
   "name": "python3"
  },
  "language_info": {
   "codemirror_mode": {
    "name": "ipython",
    "version": 3
   },
   "file_extension": ".py",
   "mimetype": "text/x-python",
   "name": "python",
   "nbconvert_exporter": "python",
   "pygments_lexer": "ipython3",
   "version": "3.7.3"
  }
 },
 "nbformat": 4,
 "nbformat_minor": 2
}
